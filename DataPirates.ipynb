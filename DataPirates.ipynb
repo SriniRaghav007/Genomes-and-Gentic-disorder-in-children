{
  "nbformat": 4,
  "nbformat_minor": 0,
  "metadata": {
    "accelerator": "TPU",
    "colab": {
      "name": "DataPirates.ipynb",
      "provenance": [],
      "collapsed_sections": [
        "todMLjVEthpv",
        "cCZW-lOguoNa",
        "4FTAvcdJYDVq",
        "QKQJ9sxNbPeS",
        "1TWG-JLJKWAr",
        "pMq5sZTZeSMt",
        "JxVLc7zEqJH5",
        "75x9klZTQ9b4"
      ],
      "toc_visible": true
    },
    "kernelspec": {
      "display_name": "Python 3",
      "name": "python3"
    },
    "language_info": {
      "name": "python"
    }
  },
  "cells": [
    {
      "cell_type": "markdown",
      "metadata": {
        "id": "todMLjVEthpv"
      },
      "source": [
        "#Importing The modules and Preprocessing"
      ]
    },
    {
      "cell_type": "code",
      "metadata": {
        "colab": {
          "base_uri": "https://localhost:8080/"
        },
        "id": "hfM9RScOteOu",
        "outputId": "89470e06-3db7-42d3-f363-74df0ffab8e9"
      },
      "source": [
        "!wget https://raw.githubusercontent.com/SriniRaghav007/Genomes-and-Gentic-disorder-in-children/main/train.csv?token=AM7YPLQXD3XJL6HXSZMNJX3BWMOCC -O gene_data.csv"
      ],
      "execution_count": 57,
      "outputs": [
        {
          "output_type": "stream",
          "name": "stdout",
          "text": [
            "--2021-12-06 09:26:13--  https://raw.githubusercontent.com/SriniRaghav007/Genomes-and-Gentic-disorder-in-children/main/train.csv?token=AM7YPLQXD3XJL6HXSZMNJX3BWMOCC\n",
            "Resolving raw.githubusercontent.com (raw.githubusercontent.com)... 185.199.109.133, 185.199.108.133, 185.199.111.133, ...\n",
            "Connecting to raw.githubusercontent.com (raw.githubusercontent.com)|185.199.109.133|:443... connected.\n",
            "HTTP request sent, awaiting response... 200 OK\n",
            "Length: 7617872 (7.3M) [text/plain]\n",
            "Saving to: ‘gene_data.csv’\n",
            "\n",
            "gene_data.csv       100%[===================>]   7.26M  --.-KB/s    in 0.1s    \n",
            "\n",
            "2021-12-06 09:26:14 (75.7 MB/s) - ‘gene_data.csv’ saved [7617872/7617872]\n",
            "\n"
          ]
        }
      ]
    },
    {
      "cell_type": "code",
      "metadata": {
        "id": "6IItxjxatqJf"
      },
      "source": [
        "import pandas as pd\n",
        "import numpy as np\n",
        "import matplotlib.pyplot as plt \n",
        "import seaborn as sns\n",
        "import tensorflow as tf\n",
        "from sklearn import metrics\n",
        "from sklearn.naive_bayes import GaussianNB\n",
        "from sklearn.neighbors import KNeighborsClassifier\n",
        "from sklearn.metrics import confusion_matrix, accuracy_score\n",
        "from sklearn.model_selection import RandomizedSearchCV\n",
        "from sklearn.ensemble import RandomForestClassifier\n",
        "from scipy.stats import uniform, truncnorm, randint\n",
        "from sklearn.pipeline import Pipeline\n",
        "import pandas as pd\n",
        "import numpy as np\n",
        "import xgboost as xgb\n",
        "import lightgbm as lgb\n",
        "from sklearn.model_selection import StratifiedKFold\n",
        "from collections import Counter\n",
        "from imblearn.under_sampling import RandomUnderSampler\n",
        "from imblearn.over_sampling import SMOTE\n",
        "from sklearn.model_selection import train_test_split\n",
        "from sklearn.ensemble import GradientBoostingClassifier\n",
        "from pandas.plotting import scatter_matrix\n",
        "from sklearn.preprocessing import KBinsDiscretizer\n",
        "from matplotlib import pyplot\n",
        "from sklearn.model_selection import RandomizedSearchCV\n",
        "from sklearn.ensemble import RandomForestClassifier\n",
        "from scipy.stats import uniform, truncnorm, randint\n",
        "from sklearn.metrics import confusion_matrix\n",
        "from sklearn.tree import DecisionTreeClassifier\n",
        "from sklearn.metrics import accuracy_score\n",
        "from sklearn.metrics import classification_report"
      ],
      "execution_count": 58,
      "outputs": []
    },
    {
      "cell_type": "code",
      "metadata": {
        "colab": {
          "base_uri": "https://localhost:8080/"
        },
        "id": "rXCNQLfZtuZy",
        "outputId": "23b03ff6-70b8-4049-fdbc-1fdf33f6a32e"
      },
      "source": [
        "df=pd.read_csv('gene_data.csv')\n",
        "df.shape"
      ],
      "execution_count": 59,
      "outputs": [
        {
          "output_type": "execute_result",
          "data": {
            "text/plain": [
              "(22083, 45)"
            ]
          },
          "metadata": {},
          "execution_count": 59
        }
      ]
    },
    {
      "cell_type": "code",
      "metadata": {
        "colab": {
          "base_uri": "https://localhost:8080/",
          "height": 390
        },
        "id": "0vTcq7FItvw3",
        "outputId": "cc7ddad3-038b-4629-b686-de030a459a00"
      },
      "source": [
        "df.describe()"
      ],
      "execution_count": 60,
      "outputs": [
        {
          "output_type": "execute_result",
          "data": {
            "text/html": [
              "<div>\n",
              "<style scoped>\n",
              "    .dataframe tbody tr th:only-of-type {\n",
              "        vertical-align: middle;\n",
              "    }\n",
              "\n",
              "    .dataframe tbody tr th {\n",
              "        vertical-align: top;\n",
              "    }\n",
              "\n",
              "    .dataframe thead th {\n",
              "        text-align: right;\n",
              "    }\n",
              "</style>\n",
              "<table border=\"1\" class=\"dataframe\">\n",
              "  <thead>\n",
              "    <tr style=\"text-align: right;\">\n",
              "      <th></th>\n",
              "      <th>Patient Age</th>\n",
              "      <th>Blood cell count (mcL)</th>\n",
              "      <th>Mother's age</th>\n",
              "      <th>Father's age</th>\n",
              "      <th>Test 1</th>\n",
              "      <th>Test 2</th>\n",
              "      <th>Test 3</th>\n",
              "      <th>Test 4</th>\n",
              "      <th>Test 5</th>\n",
              "      <th>No. of previous abortion</th>\n",
              "      <th>White Blood cell count (thousand per microliter)</th>\n",
              "      <th>Symptom 1</th>\n",
              "      <th>Symptom 2</th>\n",
              "      <th>Symptom 3</th>\n",
              "      <th>Symptom 4</th>\n",
              "      <th>Symptom 5</th>\n",
              "    </tr>\n",
              "  </thead>\n",
              "  <tbody>\n",
              "    <tr>\n",
              "      <th>count</th>\n",
              "      <td>20656.000000</td>\n",
              "      <td>22083.000000</td>\n",
              "      <td>16047.000000</td>\n",
              "      <td>16097.000000</td>\n",
              "      <td>19956.0</td>\n",
              "      <td>19931.0</td>\n",
              "      <td>19936.0</td>\n",
              "      <td>19943.0</td>\n",
              "      <td>19913.0</td>\n",
              "      <td>19921.000000</td>\n",
              "      <td>19935.000000</td>\n",
              "      <td>19928.000000</td>\n",
              "      <td>19861.000000</td>\n",
              "      <td>19982.000000</td>\n",
              "      <td>19970.000000</td>\n",
              "      <td>19930.000000</td>\n",
              "    </tr>\n",
              "    <tr>\n",
              "      <th>mean</th>\n",
              "      <td>6.974148</td>\n",
              "      <td>4.898871</td>\n",
              "      <td>34.526454</td>\n",
              "      <td>41.972852</td>\n",
              "      <td>0.0</td>\n",
              "      <td>0.0</td>\n",
              "      <td>0.0</td>\n",
              "      <td>1.0</td>\n",
              "      <td>0.0</td>\n",
              "      <td>2.003062</td>\n",
              "      <td>7.486224</td>\n",
              "      <td>0.592483</td>\n",
              "      <td>0.551886</td>\n",
              "      <td>0.536233</td>\n",
              "      <td>0.497747</td>\n",
              "      <td>0.461917</td>\n",
              "    </tr>\n",
              "    <tr>\n",
              "      <th>std</th>\n",
              "      <td>4.319475</td>\n",
              "      <td>0.199663</td>\n",
              "      <td>9.852598</td>\n",
              "      <td>13.035501</td>\n",
              "      <td>0.0</td>\n",
              "      <td>0.0</td>\n",
              "      <td>0.0</td>\n",
              "      <td>0.0</td>\n",
              "      <td>0.0</td>\n",
              "      <td>1.411919</td>\n",
              "      <td>2.653393</td>\n",
              "      <td>0.491385</td>\n",
              "      <td>0.497313</td>\n",
              "      <td>0.498698</td>\n",
              "      <td>0.500007</td>\n",
              "      <td>0.498560</td>\n",
              "    </tr>\n",
              "    <tr>\n",
              "      <th>min</th>\n",
              "      <td>0.000000</td>\n",
              "      <td>4.092727</td>\n",
              "      <td>18.000000</td>\n",
              "      <td>20.000000</td>\n",
              "      <td>0.0</td>\n",
              "      <td>0.0</td>\n",
              "      <td>0.0</td>\n",
              "      <td>1.0</td>\n",
              "      <td>0.0</td>\n",
              "      <td>0.000000</td>\n",
              "      <td>3.000000</td>\n",
              "      <td>0.000000</td>\n",
              "      <td>0.000000</td>\n",
              "      <td>0.000000</td>\n",
              "      <td>0.000000</td>\n",
              "      <td>0.000000</td>\n",
              "    </tr>\n",
              "    <tr>\n",
              "      <th>25%</th>\n",
              "      <td>3.000000</td>\n",
              "      <td>4.763109</td>\n",
              "      <td>26.000000</td>\n",
              "      <td>31.000000</td>\n",
              "      <td>0.0</td>\n",
              "      <td>0.0</td>\n",
              "      <td>0.0</td>\n",
              "      <td>1.0</td>\n",
              "      <td>0.0</td>\n",
              "      <td>1.000000</td>\n",
              "      <td>5.424703</td>\n",
              "      <td>0.000000</td>\n",
              "      <td>0.000000</td>\n",
              "      <td>0.000000</td>\n",
              "      <td>0.000000</td>\n",
              "      <td>0.000000</td>\n",
              "    </tr>\n",
              "    <tr>\n",
              "      <th>50%</th>\n",
              "      <td>7.000000</td>\n",
              "      <td>4.899399</td>\n",
              "      <td>35.000000</td>\n",
              "      <td>42.000000</td>\n",
              "      <td>0.0</td>\n",
              "      <td>0.0</td>\n",
              "      <td>0.0</td>\n",
              "      <td>1.0</td>\n",
              "      <td>0.0</td>\n",
              "      <td>2.000000</td>\n",
              "      <td>7.477132</td>\n",
              "      <td>1.000000</td>\n",
              "      <td>1.000000</td>\n",
              "      <td>1.000000</td>\n",
              "      <td>0.000000</td>\n",
              "      <td>0.000000</td>\n",
              "    </tr>\n",
              "    <tr>\n",
              "      <th>75%</th>\n",
              "      <td>11.000000</td>\n",
              "      <td>5.033830</td>\n",
              "      <td>43.000000</td>\n",
              "      <td>53.000000</td>\n",
              "      <td>0.0</td>\n",
              "      <td>0.0</td>\n",
              "      <td>0.0</td>\n",
              "      <td>1.0</td>\n",
              "      <td>0.0</td>\n",
              "      <td>3.000000</td>\n",
              "      <td>9.526152</td>\n",
              "      <td>1.000000</td>\n",
              "      <td>1.000000</td>\n",
              "      <td>1.000000</td>\n",
              "      <td>1.000000</td>\n",
              "      <td>1.000000</td>\n",
              "    </tr>\n",
              "    <tr>\n",
              "      <th>max</th>\n",
              "      <td>14.000000</td>\n",
              "      <td>5.609829</td>\n",
              "      <td>51.000000</td>\n",
              "      <td>64.000000</td>\n",
              "      <td>0.0</td>\n",
              "      <td>0.0</td>\n",
              "      <td>0.0</td>\n",
              "      <td>1.0</td>\n",
              "      <td>0.0</td>\n",
              "      <td>4.000000</td>\n",
              "      <td>12.000000</td>\n",
              "      <td>1.000000</td>\n",
              "      <td>1.000000</td>\n",
              "      <td>1.000000</td>\n",
              "      <td>1.000000</td>\n",
              "      <td>1.000000</td>\n",
              "    </tr>\n",
              "  </tbody>\n",
              "</table>\n",
              "</div>"
            ],
            "text/plain": [
              "        Patient Age  Blood cell count (mcL)  ...     Symptom 4     Symptom 5\n",
              "count  20656.000000            22083.000000  ...  19970.000000  19930.000000\n",
              "mean       6.974148                4.898871  ...      0.497747      0.461917\n",
              "std        4.319475                0.199663  ...      0.500007      0.498560\n",
              "min        0.000000                4.092727  ...      0.000000      0.000000\n",
              "25%        3.000000                4.763109  ...      0.000000      0.000000\n",
              "50%        7.000000                4.899399  ...      0.000000      0.000000\n",
              "75%       11.000000                5.033830  ...      1.000000      1.000000\n",
              "max       14.000000                5.609829  ...      1.000000      1.000000\n",
              "\n",
              "[8 rows x 16 columns]"
            ]
          },
          "metadata": {},
          "execution_count": 60
        }
      ]
    },
    {
      "cell_type": "markdown",
      "metadata": {
        "id": "KGBWpCGDKu3B"
      },
      "source": [
        "The perctange of null values of all columns "
      ]
    },
    {
      "cell_type": "code",
      "metadata": {
        "colab": {
          "base_uri": "https://localhost:8080/"
        },
        "id": "V-dTczH9t6Pm",
        "outputId": "1d484441-b640-4b11-bf32-803c872d8c6c"
      },
      "source": [
        "(df.isnull().sum()/df.shape[0])*100"
      ],
      "execution_count": 61,
      "outputs": [
        {
          "output_type": "execute_result",
          "data": {
            "text/plain": [
              "Patient Id                                           0.000000\n",
              "Patient Age                                          6.461984\n",
              "Genes in mother's side                               0.000000\n",
              "Inherited from father                                1.385681\n",
              "Maternal gene                                       12.724720\n",
              "Paternal gene                                        0.000000\n",
              "Blood cell count (mcL)                               0.000000\n",
              "Patient First Name                                   0.000000\n",
              "Family Name                                         43.884436\n",
              "Father's name                                        0.000000\n",
              "Mother's age                                        27.333243\n",
              "Father's age                                        27.106824\n",
              "Institute Name                                      23.121858\n",
              "Location of Institute                                0.000000\n",
              "Status                                               0.000000\n",
              "Respiratory Rate (breaths/min)                       9.731468\n",
              "Heart Rate (rates/min                                9.568446\n",
              "Test 1                                               9.631843\n",
              "Test 2                                               9.745053\n",
              "Test 3                                               9.722411\n",
              "Test 4                                               9.690712\n",
              "Test 5                                               9.826563\n",
              "Parental consent                                     9.622787\n",
              "Follow-up                                            9.808450\n",
              "Gender                                               9.840149\n",
              "Birth asphyxia                                       9.686184\n",
              "Autopsy shows birth defect (if applicable)           4.646108\n",
              "Place of birth                                       9.618258\n",
              "Folic acid details (peri-conceptional)               9.586560\n",
              "H/O serious maternal illness                         9.745053\n",
              "H/O radiation exposure (x-ray)                       9.749581\n",
              "H/O substance abuse                                  9.939773\n",
              "Assisted conception IVF/ART                          9.609202\n",
              "History of anomalies in previous pregnancies         9.835620\n",
              "No. of previous abortion                             9.790336\n",
              "Birth defects                                        9.754109\n",
              "White Blood cell count (thousand per microliter)     9.726939\n",
              "Blood test result                                    9.713354\n",
              "Symptom 1                                            9.758638\n",
              "Symptom 2                                           10.062039\n",
              "Symptom 3                                            9.514106\n",
              "Symptom 4                                            9.568446\n",
              "Symptom 5                                            9.749581\n",
              "Genetic Disorder                                     9.717883\n",
              "Disorder Subclass                                    9.817507\n",
              "dtype: float64"
            ]
          },
          "metadata": {},
          "execution_count": 61
        }
      ]
    },
    {
      "cell_type": "markdown",
      "metadata": {
        "id": "mLTlPzA8Kmae"
      },
      "source": [
        "Identifying all types of null values and renaming them to nan"
      ]
    },
    {
      "cell_type": "code",
      "metadata": {
        "id": "QYm5xv3-t-cT"
      },
      "source": [
        "df[\"Birth asphyxia\"] = df[\"Birth asphyxia\"].replace(\"No record\",np.NaN)\n",
        "df[\"Birth asphyxia\"] = df[\"Birth asphyxia\"].replace(\"Not available\",np.NaN)\n",
        "\n",
        "df[\"Autopsy shows birth defect (if applicable)\"] = df[\"Autopsy shows birth defect (if applicable)\"].replace(\"None\",np.NaN)\n",
        "df[\"Autopsy shows birth defect (if applicable)\"] = df[\"Autopsy shows birth defect (if applicable)\"].replace(\"Not applicable\",np.NaN)"
      ],
      "execution_count": 62,
      "outputs": []
    },
    {
      "cell_type": "code",
      "metadata": {
        "id": "85WZ8MsBuBhE"
      },
      "source": [
        "df[\"H/O radiation exposure (x-ray)\"] = df[\"H/O radiation exposure (x-ray)\"].replace(\"Not applicable\",np.NaN)\n",
        "df[\"H/O radiation exposure (x-ray)\"] = df[\"H/O radiation exposure (x-ray)\"].replace(\"-\",np.NaN)\n",
        "\n",
        "df[\"H/O substance abuse\"] = df[\"H/O substance abuse\"].replace(\"Not applicable\",np.NaN)\n",
        "df[\"H/O substance abuse\"] = df[\"H/O substance abuse\"].replace(\"-\",np.NaN)"
      ],
      "execution_count": 63,
      "outputs": []
    },
    {
      "cell_type": "markdown",
      "metadata": {
        "id": "IlDWdWjmK0oW"
      },
      "source": [
        "Dropping columns based on Domain knowledge and correlation statistics"
      ]
    },
    {
      "cell_type": "code",
      "metadata": {
        "id": "Vp4Hrbu0uDyg"
      },
      "source": [
        "df.drop([\"Patient Id\",\"Patient First Name\",\"Family Name\",\"Father's name\",\"Location of Institute\",\"Institute Name\",\"Place of birth\",\"Parental consent\"],inplace=True,axis=1)\n",
        "#Dropping based on Domain knowledge \n",
        "#Test feature columns do not have proper outcome categories\n",
        "#That is they have only 1 and nan or 0 and nan as value, which is very biased and not appropriate for model construction\n",
        "#Also there is no indication of what is 1, 0 in for the description of dataset\n",
        "#Hence the test columns have been dropped\n",
        "df.drop([\"Test 1\",\"Test 2\",\"Test 3\",\"Test 4\",\"Test 5\"],inplace=True,axis=1)\n",
        "#Low correlation\n",
        "df.drop([\"Autopsy shows birth defect (if applicable)\",\"Birth asphyxia\",\"H/O radiation exposure (x-ray)\",\"H/O substance abuse\"],inplace=True,axis=1)"
      ],
      "execution_count": 64,
      "outputs": []
    },
    {
      "cell_type": "code",
      "metadata": {
        "colab": {
          "base_uri": "https://localhost:8080/"
        },
        "id": "K01ArL9suG2U",
        "outputId": "740f6ede-463e-4c6a-af72-3932cc11afd2"
      },
      "source": [
        "len(df.columns)"
      ],
      "execution_count": 65,
      "outputs": [
        {
          "output_type": "execute_result",
          "data": {
            "text/plain": [
              "28"
            ]
          },
          "metadata": {},
          "execution_count": 65
        }
      ]
    },
    {
      "cell_type": "code",
      "metadata": {
        "id": "8-CM9xqe79R4"
      },
      "source": [
        "df = df.astype({\"Symptom 1\": object, \"Symptom 2\": object,\"Symptom 3\": object, \"Symptom 4\": object, \"Symptom 5\": object})"
      ],
      "execution_count": 66,
      "outputs": []
    },
    {
      "cell_type": "markdown",
      "metadata": {
        "id": "4852gYygK7Cm"
      },
      "source": [
        "Creating two categories 1.Categorical columns 2.Numerical columns for statistics"
      ]
    },
    {
      "cell_type": "code",
      "metadata": {
        "id": "aGqJFCY1wSAz"
      },
      "source": [
        "#seprating categorical and numerical label\n",
        "def split_type(df):\n",
        "    num_df = []\n",
        "    cat_df = []\n",
        "    for i in df.columns:\n",
        "        if df[i].dtypes =='object':\n",
        "            cat_df.append(i)\n",
        "        else:\n",
        "            num_df.append(i)\n",
        "    return cat_df,num_df\n",
        "cat_df,num_df = split_type(df)"
      ],
      "execution_count": 67,
      "outputs": []
    },
    {
      "cell_type": "code",
      "metadata": {
        "colab": {
          "base_uri": "https://localhost:8080/"
        },
        "id": "LDmt5nbIwi62",
        "outputId": "79f40a3c-4def-4e31-caf4-3c52f6c71b5f"
      },
      "source": [
        "cat_df"
      ],
      "execution_count": 68,
      "outputs": [
        {
          "output_type": "execute_result",
          "data": {
            "text/plain": [
              "[\"Genes in mother's side\",\n",
              " 'Inherited from father',\n",
              " 'Maternal gene',\n",
              " 'Paternal gene',\n",
              " 'Status',\n",
              " 'Respiratory Rate (breaths/min)',\n",
              " 'Heart Rate (rates/min',\n",
              " 'Follow-up',\n",
              " 'Gender',\n",
              " 'Folic acid details (peri-conceptional)',\n",
              " 'H/O serious maternal illness',\n",
              " 'Assisted conception IVF/ART',\n",
              " 'History of anomalies in previous pregnancies',\n",
              " 'Birth defects',\n",
              " 'Blood test result',\n",
              " 'Symptom 1',\n",
              " 'Symptom 2',\n",
              " 'Symptom 3',\n",
              " 'Symptom 4',\n",
              " 'Symptom 5',\n",
              " 'Genetic Disorder',\n",
              " 'Disorder Subclass']"
            ]
          },
          "metadata": {},
          "execution_count": 68
        }
      ]
    },
    {
      "cell_type": "code",
      "metadata": {
        "colab": {
          "base_uri": "https://localhost:8080/"
        },
        "id": "smBSWJ6ewrU-",
        "outputId": "f9a3e37c-382c-4830-bf23-93cf290da5c1"
      },
      "source": [
        "num_df"
      ],
      "execution_count": 69,
      "outputs": [
        {
          "output_type": "execute_result",
          "data": {
            "text/plain": [
              "['Patient Age',\n",
              " 'Blood cell count (mcL)',\n",
              " \"Mother's age\",\n",
              " \"Father's age\",\n",
              " 'No. of previous abortion',\n",
              " 'White Blood cell count (thousand per microliter)']"
            ]
          },
          "metadata": {},
          "execution_count": 69
        }
      ]
    },
    {
      "cell_type": "markdown",
      "metadata": {
        "id": "khEuVH9yLEM7"
      },
      "source": [
        "Removing null values from dataset by filling with mode/mean for categorical and numerical data respectively"
      ]
    },
    {
      "cell_type": "code",
      "metadata": {
        "id": "WYdtQpR6wdOg"
      },
      "source": [
        "#removing null values column wise\n",
        "#filling null values for categorical data if \n",
        "for i in cat_df:\n",
        "  if ((df[i].isnull().sum()/df.shape[0])*100)>15:\n",
        "    df[i].dropna(inplace=True)\n",
        "  df[i].fillna(df[i].mode()[0], inplace=True)"
      ],
      "execution_count": 70,
      "outputs": []
    },
    {
      "cell_type": "markdown",
      "metadata": {
        "id": "BW6CCjF5LNhn"
      },
      "source": [
        "Using a threshold of 15% for nul values in a columns above which they are dropped"
      ]
    },
    {
      "cell_type": "code",
      "metadata": {
        "id": "KjPWhoVkweEb"
      },
      "source": [
        "for i in num_df:\n",
        "  if ((df[i].isnull().sum()/df.shape[0])*100)>15:\n",
        "    df[i].dropna(inplace=True)\n",
        "  df[i].fillna(df[i].mean(), inplace=True)"
      ],
      "execution_count": 71,
      "outputs": []
    },
    {
      "cell_type": "code",
      "metadata": {
        "colab": {
          "base_uri": "https://localhost:8080/"
        },
        "id": "3TB2dAuYuxWL",
        "outputId": "cc8900d2-018c-4b0b-d368-bc65ccf413b7"
      },
      "source": [
        "(df.isnull().sum()/df.shape[0])*100"
      ],
      "execution_count": 72,
      "outputs": [
        {
          "output_type": "execute_result",
          "data": {
            "text/plain": [
              "Patient Age                                         0.0\n",
              "Genes in mother's side                              0.0\n",
              "Inherited from father                               0.0\n",
              "Maternal gene                                       0.0\n",
              "Paternal gene                                       0.0\n",
              "Blood cell count (mcL)                              0.0\n",
              "Mother's age                                        0.0\n",
              "Father's age                                        0.0\n",
              "Status                                              0.0\n",
              "Respiratory Rate (breaths/min)                      0.0\n",
              "Heart Rate (rates/min                               0.0\n",
              "Follow-up                                           0.0\n",
              "Gender                                              0.0\n",
              "Folic acid details (peri-conceptional)              0.0\n",
              "H/O serious maternal illness                        0.0\n",
              "Assisted conception IVF/ART                         0.0\n",
              "History of anomalies in previous pregnancies        0.0\n",
              "No. of previous abortion                            0.0\n",
              "Birth defects                                       0.0\n",
              "White Blood cell count (thousand per microliter)    0.0\n",
              "Blood test result                                   0.0\n",
              "Symptom 1                                           0.0\n",
              "Symptom 2                                           0.0\n",
              "Symptom 3                                           0.0\n",
              "Symptom 4                                           0.0\n",
              "Symptom 5                                           0.0\n",
              "Genetic Disorder                                    0.0\n",
              "Disorder Subclass                                   0.0\n",
              "dtype: float64"
            ]
          },
          "metadata": {},
          "execution_count": 72
        }
      ]
    },
    {
      "cell_type": "markdown",
      "metadata": {
        "id": "cCZW-lOguoNa"
      },
      "source": [
        "# EDA"
      ]
    },
    {
      "cell_type": "code",
      "metadata": {
        "colab": {
          "base_uri": "https://localhost:8080/",
          "height": 556
        },
        "id": "9qAlIXXJxF5k",
        "outputId": "76498ca1-7009-419a-e450-630c2b6690c3"
      },
      "source": [
        "df.head()"
      ],
      "execution_count": 73,
      "outputs": [
        {
          "output_type": "execute_result",
          "data": {
            "text/html": [
              "<div>\n",
              "<style scoped>\n",
              "    .dataframe tbody tr th:only-of-type {\n",
              "        vertical-align: middle;\n",
              "    }\n",
              "\n",
              "    .dataframe tbody tr th {\n",
              "        vertical-align: top;\n",
              "    }\n",
              "\n",
              "    .dataframe thead th {\n",
              "        text-align: right;\n",
              "    }\n",
              "</style>\n",
              "<table border=\"1\" class=\"dataframe\">\n",
              "  <thead>\n",
              "    <tr style=\"text-align: right;\">\n",
              "      <th></th>\n",
              "      <th>Patient Age</th>\n",
              "      <th>Genes in mother's side</th>\n",
              "      <th>Inherited from father</th>\n",
              "      <th>Maternal gene</th>\n",
              "      <th>Paternal gene</th>\n",
              "      <th>Blood cell count (mcL)</th>\n",
              "      <th>Mother's age</th>\n",
              "      <th>Father's age</th>\n",
              "      <th>Status</th>\n",
              "      <th>Respiratory Rate (breaths/min)</th>\n",
              "      <th>Heart Rate (rates/min</th>\n",
              "      <th>Follow-up</th>\n",
              "      <th>Gender</th>\n",
              "      <th>Folic acid details (peri-conceptional)</th>\n",
              "      <th>H/O serious maternal illness</th>\n",
              "      <th>Assisted conception IVF/ART</th>\n",
              "      <th>History of anomalies in previous pregnancies</th>\n",
              "      <th>No. of previous abortion</th>\n",
              "      <th>Birth defects</th>\n",
              "      <th>White Blood cell count (thousand per microliter)</th>\n",
              "      <th>Blood test result</th>\n",
              "      <th>Symptom 1</th>\n",
              "      <th>Symptom 2</th>\n",
              "      <th>Symptom 3</th>\n",
              "      <th>Symptom 4</th>\n",
              "      <th>Symptom 5</th>\n",
              "      <th>Genetic Disorder</th>\n",
              "      <th>Disorder Subclass</th>\n",
              "    </tr>\n",
              "  </thead>\n",
              "  <tbody>\n",
              "    <tr>\n",
              "      <th>0</th>\n",
              "      <td>2.0</td>\n",
              "      <td>Yes</td>\n",
              "      <td>No</td>\n",
              "      <td>Yes</td>\n",
              "      <td>No</td>\n",
              "      <td>4.760603</td>\n",
              "      <td>34.526454</td>\n",
              "      <td>41.972852</td>\n",
              "      <td>Alive</td>\n",
              "      <td>Normal (30-60)</td>\n",
              "      <td>Normal</td>\n",
              "      <td>High</td>\n",
              "      <td>Ambiguous</td>\n",
              "      <td>No</td>\n",
              "      <td>No</td>\n",
              "      <td>No</td>\n",
              "      <td>Yes</td>\n",
              "      <td>2.003062</td>\n",
              "      <td>Singular</td>\n",
              "      <td>9.857562</td>\n",
              "      <td>slightly abnormal</td>\n",
              "      <td>1.0</td>\n",
              "      <td>1.0</td>\n",
              "      <td>1.0</td>\n",
              "      <td>1.0</td>\n",
              "      <td>1.0</td>\n",
              "      <td>Mitochondrial genetic inheritance disorders</td>\n",
              "      <td>Leber's hereditary optic neuropathy</td>\n",
              "    </tr>\n",
              "    <tr>\n",
              "      <th>1</th>\n",
              "      <td>4.0</td>\n",
              "      <td>Yes</td>\n",
              "      <td>Yes</td>\n",
              "      <td>No</td>\n",
              "      <td>No</td>\n",
              "      <td>4.910669</td>\n",
              "      <td>34.526454</td>\n",
              "      <td>23.000000</td>\n",
              "      <td>Deceased</td>\n",
              "      <td>Tachypnea</td>\n",
              "      <td>Normal</td>\n",
              "      <td>High</td>\n",
              "      <td>Ambiguous</td>\n",
              "      <td>Yes</td>\n",
              "      <td>Yes</td>\n",
              "      <td>No</td>\n",
              "      <td>Yes</td>\n",
              "      <td>2.003062</td>\n",
              "      <td>Multiple</td>\n",
              "      <td>5.522560</td>\n",
              "      <td>normal</td>\n",
              "      <td>1.0</td>\n",
              "      <td>1.0</td>\n",
              "      <td>1.0</td>\n",
              "      <td>1.0</td>\n",
              "      <td>0.0</td>\n",
              "      <td>Mitochondrial genetic inheritance disorders</td>\n",
              "      <td>Cystic fibrosis</td>\n",
              "    </tr>\n",
              "    <tr>\n",
              "      <th>2</th>\n",
              "      <td>6.0</td>\n",
              "      <td>Yes</td>\n",
              "      <td>No</td>\n",
              "      <td>No</td>\n",
              "      <td>No</td>\n",
              "      <td>4.893297</td>\n",
              "      <td>41.000000</td>\n",
              "      <td>22.000000</td>\n",
              "      <td>Alive</td>\n",
              "      <td>Normal (30-60)</td>\n",
              "      <td>Tachycardia</td>\n",
              "      <td>Low</td>\n",
              "      <td>Ambiguous</td>\n",
              "      <td>Yes</td>\n",
              "      <td>No</td>\n",
              "      <td>Yes</td>\n",
              "      <td>Yes</td>\n",
              "      <td>4.000000</td>\n",
              "      <td>Singular</td>\n",
              "      <td>7.486224</td>\n",
              "      <td>normal</td>\n",
              "      <td>0.0</td>\n",
              "      <td>1.0</td>\n",
              "      <td>1.0</td>\n",
              "      <td>1.0</td>\n",
              "      <td>1.0</td>\n",
              "      <td>Multifactorial genetic inheritance disorders</td>\n",
              "      <td>Diabetes</td>\n",
              "    </tr>\n",
              "    <tr>\n",
              "      <th>3</th>\n",
              "      <td>12.0</td>\n",
              "      <td>Yes</td>\n",
              "      <td>No</td>\n",
              "      <td>Yes</td>\n",
              "      <td>No</td>\n",
              "      <td>4.705280</td>\n",
              "      <td>21.000000</td>\n",
              "      <td>41.972852</td>\n",
              "      <td>Deceased</td>\n",
              "      <td>Tachypnea</td>\n",
              "      <td>Normal</td>\n",
              "      <td>High</td>\n",
              "      <td>Male</td>\n",
              "      <td>No</td>\n",
              "      <td>Yes</td>\n",
              "      <td>Yes</td>\n",
              "      <td>Yes</td>\n",
              "      <td>1.000000</td>\n",
              "      <td>Singular</td>\n",
              "      <td>7.919321</td>\n",
              "      <td>inconclusive</td>\n",
              "      <td>0.0</td>\n",
              "      <td>0.0</td>\n",
              "      <td>1.0</td>\n",
              "      <td>0.0</td>\n",
              "      <td>0.0</td>\n",
              "      <td>Mitochondrial genetic inheritance disorders</td>\n",
              "      <td>Leigh syndrome</td>\n",
              "    </tr>\n",
              "    <tr>\n",
              "      <th>4</th>\n",
              "      <td>11.0</td>\n",
              "      <td>Yes</td>\n",
              "      <td>No</td>\n",
              "      <td>Yes</td>\n",
              "      <td>Yes</td>\n",
              "      <td>4.720703</td>\n",
              "      <td>32.000000</td>\n",
              "      <td>41.972852</td>\n",
              "      <td>Alive</td>\n",
              "      <td>Tachypnea</td>\n",
              "      <td>Tachycardia</td>\n",
              "      <td>Low</td>\n",
              "      <td>Male</td>\n",
              "      <td>No</td>\n",
              "      <td>Yes</td>\n",
              "      <td>Yes</td>\n",
              "      <td>No</td>\n",
              "      <td>4.000000</td>\n",
              "      <td>Multiple</td>\n",
              "      <td>4.098210</td>\n",
              "      <td>slightly abnormal</td>\n",
              "      <td>0.0</td>\n",
              "      <td>0.0</td>\n",
              "      <td>0.0</td>\n",
              "      <td>0.0</td>\n",
              "      <td>0.0</td>\n",
              "      <td>Multifactorial genetic inheritance disorders</td>\n",
              "      <td>Cancer</td>\n",
              "    </tr>\n",
              "  </tbody>\n",
              "</table>\n",
              "</div>"
            ],
            "text/plain": [
              "   Patient Age  ...                    Disorder Subclass\n",
              "0          2.0  ...  Leber's hereditary optic neuropathy\n",
              "1          4.0  ...                      Cystic fibrosis\n",
              "2          6.0  ...                             Diabetes\n",
              "3         12.0  ...                       Leigh syndrome\n",
              "4         11.0  ...                               Cancer\n",
              "\n",
              "[5 rows x 28 columns]"
            ]
          },
          "metadata": {},
          "execution_count": 73
        }
      ]
    },
    {
      "cell_type": "code",
      "metadata": {
        "colab": {
          "base_uri": "https://localhost:8080/",
          "height": 498
        },
        "id": "__t7GZBZly3-",
        "outputId": "f1fd851f-e869-41f5-ad9a-e9b90ae1fdda"
      },
      "source": [
        "df.corr()"
      ],
      "execution_count": 74,
      "outputs": [
        {
          "output_type": "execute_result",
          "data": {
            "text/html": [
              "<div>\n",
              "<style scoped>\n",
              "    .dataframe tbody tr th:only-of-type {\n",
              "        vertical-align: middle;\n",
              "    }\n",
              "\n",
              "    .dataframe tbody tr th {\n",
              "        vertical-align: top;\n",
              "    }\n",
              "\n",
              "    .dataframe thead th {\n",
              "        text-align: right;\n",
              "    }\n",
              "</style>\n",
              "<table border=\"1\" class=\"dataframe\">\n",
              "  <thead>\n",
              "    <tr style=\"text-align: right;\">\n",
              "      <th></th>\n",
              "      <th>Patient Age</th>\n",
              "      <th>Blood cell count (mcL)</th>\n",
              "      <th>Mother's age</th>\n",
              "      <th>Father's age</th>\n",
              "      <th>No. of previous abortion</th>\n",
              "      <th>White Blood cell count (thousand per microliter)</th>\n",
              "      <th>Symptom 1</th>\n",
              "      <th>Symptom 2</th>\n",
              "      <th>Symptom 3</th>\n",
              "      <th>Symptom 4</th>\n",
              "      <th>Symptom 5</th>\n",
              "    </tr>\n",
              "  </thead>\n",
              "  <tbody>\n",
              "    <tr>\n",
              "      <th>Patient Age</th>\n",
              "      <td>1.000000</td>\n",
              "      <td>0.010455</td>\n",
              "      <td>-0.006313</td>\n",
              "      <td>-0.008177</td>\n",
              "      <td>-0.006695</td>\n",
              "      <td>-0.007820</td>\n",
              "      <td>0.001997</td>\n",
              "      <td>0.010464</td>\n",
              "      <td>-0.016655</td>\n",
              "      <td>-0.008538</td>\n",
              "      <td>-0.012045</td>\n",
              "    </tr>\n",
              "    <tr>\n",
              "      <th>Blood cell count (mcL)</th>\n",
              "      <td>0.010455</td>\n",
              "      <td>1.000000</td>\n",
              "      <td>-0.006090</td>\n",
              "      <td>0.002810</td>\n",
              "      <td>-0.005700</td>\n",
              "      <td>-0.000986</td>\n",
              "      <td>0.002585</td>\n",
              "      <td>-0.005347</td>\n",
              "      <td>0.003888</td>\n",
              "      <td>0.004455</td>\n",
              "      <td>0.002684</td>\n",
              "    </tr>\n",
              "    <tr>\n",
              "      <th>Mother's age</th>\n",
              "      <td>-0.006313</td>\n",
              "      <td>-0.006090</td>\n",
              "      <td>1.000000</td>\n",
              "      <td>-0.000262</td>\n",
              "      <td>0.006432</td>\n",
              "      <td>0.012690</td>\n",
              "      <td>-0.007901</td>\n",
              "      <td>-0.010749</td>\n",
              "      <td>0.006729</td>\n",
              "      <td>-0.004597</td>\n",
              "      <td>0.007048</td>\n",
              "    </tr>\n",
              "    <tr>\n",
              "      <th>Father's age</th>\n",
              "      <td>-0.008177</td>\n",
              "      <td>0.002810</td>\n",
              "      <td>-0.000262</td>\n",
              "      <td>1.000000</td>\n",
              "      <td>0.000451</td>\n",
              "      <td>0.010682</td>\n",
              "      <td>0.001751</td>\n",
              "      <td>-0.003217</td>\n",
              "      <td>0.011167</td>\n",
              "      <td>-0.002107</td>\n",
              "      <td>0.009119</td>\n",
              "    </tr>\n",
              "    <tr>\n",
              "      <th>No. of previous abortion</th>\n",
              "      <td>-0.006695</td>\n",
              "      <td>-0.005700</td>\n",
              "      <td>0.006432</td>\n",
              "      <td>0.000451</td>\n",
              "      <td>1.000000</td>\n",
              "      <td>0.003441</td>\n",
              "      <td>-0.006610</td>\n",
              "      <td>0.004591</td>\n",
              "      <td>-0.003647</td>\n",
              "      <td>0.003833</td>\n",
              "      <td>-0.004912</td>\n",
              "    </tr>\n",
              "    <tr>\n",
              "      <th>White Blood cell count (thousand per microliter)</th>\n",
              "      <td>-0.007820</td>\n",
              "      <td>-0.000986</td>\n",
              "      <td>0.012690</td>\n",
              "      <td>0.010682</td>\n",
              "      <td>0.003441</td>\n",
              "      <td>1.000000</td>\n",
              "      <td>-0.000566</td>\n",
              "      <td>0.007568</td>\n",
              "      <td>0.008170</td>\n",
              "      <td>0.002487</td>\n",
              "      <td>-0.006862</td>\n",
              "    </tr>\n",
              "    <tr>\n",
              "      <th>Symptom 1</th>\n",
              "      <td>0.001997</td>\n",
              "      <td>0.002585</td>\n",
              "      <td>-0.007901</td>\n",
              "      <td>0.001751</td>\n",
              "      <td>-0.006610</td>\n",
              "      <td>-0.000566</td>\n",
              "      <td>1.000000</td>\n",
              "      <td>0.012834</td>\n",
              "      <td>0.007435</td>\n",
              "      <td>-0.003506</td>\n",
              "      <td>0.010190</td>\n",
              "    </tr>\n",
              "    <tr>\n",
              "      <th>Symptom 2</th>\n",
              "      <td>0.010464</td>\n",
              "      <td>-0.005347</td>\n",
              "      <td>-0.010749</td>\n",
              "      <td>-0.003217</td>\n",
              "      <td>0.004591</td>\n",
              "      <td>0.007568</td>\n",
              "      <td>0.012834</td>\n",
              "      <td>1.000000</td>\n",
              "      <td>0.004895</td>\n",
              "      <td>0.007621</td>\n",
              "      <td>0.002106</td>\n",
              "    </tr>\n",
              "    <tr>\n",
              "      <th>Symptom 3</th>\n",
              "      <td>-0.016655</td>\n",
              "      <td>0.003888</td>\n",
              "      <td>0.006729</td>\n",
              "      <td>0.011167</td>\n",
              "      <td>-0.003647</td>\n",
              "      <td>0.008170</td>\n",
              "      <td>0.007435</td>\n",
              "      <td>0.004895</td>\n",
              "      <td>1.000000</td>\n",
              "      <td>0.004290</td>\n",
              "      <td>0.020331</td>\n",
              "    </tr>\n",
              "    <tr>\n",
              "      <th>Symptom 4</th>\n",
              "      <td>-0.008538</td>\n",
              "      <td>0.004455</td>\n",
              "      <td>-0.004597</td>\n",
              "      <td>-0.002107</td>\n",
              "      <td>0.003833</td>\n",
              "      <td>0.002487</td>\n",
              "      <td>-0.003506</td>\n",
              "      <td>0.007621</td>\n",
              "      <td>0.004290</td>\n",
              "      <td>1.000000</td>\n",
              "      <td>0.033635</td>\n",
              "    </tr>\n",
              "    <tr>\n",
              "      <th>Symptom 5</th>\n",
              "      <td>-0.012045</td>\n",
              "      <td>0.002684</td>\n",
              "      <td>0.007048</td>\n",
              "      <td>0.009119</td>\n",
              "      <td>-0.004912</td>\n",
              "      <td>-0.006862</td>\n",
              "      <td>0.010190</td>\n",
              "      <td>0.002106</td>\n",
              "      <td>0.020331</td>\n",
              "      <td>0.033635</td>\n",
              "      <td>1.000000</td>\n",
              "    </tr>\n",
              "  </tbody>\n",
              "</table>\n",
              "</div>"
            ],
            "text/plain": [
              "                                                  Patient Age  ...  Symptom 5\n",
              "Patient Age                                          1.000000  ...  -0.012045\n",
              "Blood cell count (mcL)                               0.010455  ...   0.002684\n",
              "Mother's age                                        -0.006313  ...   0.007048\n",
              "Father's age                                        -0.008177  ...   0.009119\n",
              "No. of previous abortion                            -0.006695  ...  -0.004912\n",
              "White Blood cell count (thousand per microliter)    -0.007820  ...  -0.006862\n",
              "Symptom 1                                            0.001997  ...   0.010190\n",
              "Symptom 2                                            0.010464  ...   0.002106\n",
              "Symptom 3                                           -0.016655  ...   0.020331\n",
              "Symptom 4                                           -0.008538  ...   0.033635\n",
              "Symptom 5                                           -0.012045  ...   1.000000\n",
              "\n",
              "[11 rows x 11 columns]"
            ]
          },
          "metadata": {},
          "execution_count": 74
        }
      ]
    },
    {
      "cell_type": "markdown",
      "metadata": {
        "id": "iTN8pks9v1Pd"
      },
      "source": [
        "## Data Visualization"
      ]
    },
    {
      "cell_type": "code",
      "metadata": {
        "colab": {
          "base_uri": "https://localhost:8080/",
          "height": 585
        },
        "id": "RFgedWGuvyQr",
        "outputId": "9e9b6c87-9b50-446f-9f6a-11b2fcbe399a"
      },
      "source": [
        "figure = plt.figure(figsize=(18,8))\n",
        "df[\"Genetic Disorder\"].value_counts().plot.pie(autopct='%1.1f%%',shadow=True)\n",
        "plt.title('Genetic Disorder', fontsize=10)\n",
        "plt.tight_layout()\n",
        "plt.show()"
      ],
      "execution_count": 75,
      "outputs": [
        {
          "output_type": "display_data",
          "data": {
            "image/png": "[encoded data removed]",
            "text/plain": [
              "<Figure size 1296x576 with 1 Axes>"
            ]
          },
          "metadata": {}
        }
      ]
    },
    {
      "cell_type": "code",
      "metadata": {
        "colab": {
          "base_uri": "https://localhost:8080/",
          "height": 406
        },
        "id": "p3oX8Incx0So",
        "outputId": "5e8bf39a-3ad5-43fa-dacf-160d220b448b"
      },
      "source": [
        "plt.figure(figsize=(18, 6))\n",
        "sns.countplot(x = 'Disorder Subclass', data = df)"
      ],
      "execution_count": 76,
      "outputs": [
        {
          "output_type": "execute_result",
          "data": {
            "text/plain": [
              "<matplotlib.axes._subplots.AxesSubplot at 0x7f41043de8d0>"
            ]
          },
          "metadata": {},
          "execution_count": 76
        },
        {
          "output_type": "display_data",
          "data": {
            "image/png": "[encoded data removed]",
            "text/plain": [
              "<Figure size 1296x432 with 1 Axes>"
            ]
          },
          "metadata": {
            "needs_background": "light"
          }
        }
      ]
    },
    {
      "cell_type": "code",
      "metadata": {
        "colab": {
          "base_uri": "https://localhost:8080/",
          "height": 406
        },
        "id": "RzKppQeE4rLW",
        "outputId": "b0c88d1c-26f3-47f3-ba5f-2332df737619"
      },
      "source": [
        "col = [\"Genes in mother's side\"]\n",
        "plt.figure(figsize=(12, 6))\n",
        "sns.countplot(data=df, x=\"Genes in mother's side\", hue='Genetic Disorder', palette='autumn')"
      ],
      "execution_count": 77,
      "outputs": [
        {
          "output_type": "execute_result",
          "data": {
            "text/plain": [
              "<matplotlib.axes._subplots.AxesSubplot at 0x7f40ff5194d0>"
            ]
          },
          "metadata": {},
          "execution_count": 77
        },
        {
          "output_type": "display_data",
          "data": {
            "image/png": "[encoded data removed]",
            "text/plain": [
              "<Figure size 864x432 with 1 Axes>"
            ]
          },
          "metadata": {
            "needs_background": "light"
          }
        }
      ]
    },
    {
      "cell_type": "markdown",
      "metadata": {
        "id": "euSVnJlf47Jv"
      },
      "source": [
        "Genes from mother's side have an impact on inheriting the Genetic disorder"
      ]
    },
    {
      "cell_type": "code",
      "metadata": {
        "colab": {
          "base_uri": "https://localhost:8080/",
          "height": 406
        },
        "id": "_wiBtB8H42BZ",
        "outputId": "e977bcb8-88a3-4b6e-db2f-a0a9b25aeddf"
      },
      "source": [
        "plt.figure(figsize=(12, 6))\n",
        "sns.countplot(data=df, x=\"Inherited from father\", hue='Genetic Disorder', palette='spring')"
      ],
      "execution_count": 78,
      "outputs": [
        {
          "output_type": "execute_result",
          "data": {
            "text/plain": [
              "<matplotlib.axes._subplots.AxesSubplot at 0x7f40ff4e27d0>"
            ]
          },
          "metadata": {},
          "execution_count": 78
        },
        {
          "output_type": "display_data",
          "data": {
            "image/png": "[encoded data removed]",
            "text/plain": [
              "<Figure size 864x432 with 1 Axes>"
            ]
          },
          "metadata": {
            "needs_background": "light"
          }
        }
      ]
    },
    {
      "cell_type": "markdown",
      "metadata": {
        "id": "hVOkOSuT5Njc"
      },
      "source": [
        "But genes from father's side did not have much effect"
      ]
    },
    {
      "cell_type": "code",
      "metadata": {
        "colab": {
          "base_uri": "https://localhost:8080/",
          "height": 334
        },
        "id": "E3DQS1kzzAGe",
        "outputId": "fbed3926-a2b5-455b-a3c2-291125e5d3ea"
      },
      "source": [
        "sns.countplot(df['Gender'], data=df)\n",
        "plt.show()"
      ],
      "execution_count": 79,
      "outputs": [
        {
          "output_type": "stream",
          "name": "stderr",
          "text": [
            "/usr/local/lib/python3.7/dist-packages/seaborn/_decorators.py:43: FutureWarning: Pass the following variable as a keyword arg: x. From version 0.12, the only valid positional argument will be `data`, and passing other arguments without an explicit keyword will result in an error or misinterpretation.\n",
            "  FutureWarning\n"
          ]
        },
        {
          "output_type": "display_data",
          "data": {
            "image/png": "[encoded data removed]",
            "text/plain": [
              "<Figure size 432x288 with 1 Axes>"
            ]
          },
          "metadata": {
            "needs_background": "light"
          }
        }
      ]
    },
    {
      "cell_type": "code",
      "metadata": {
        "colab": {
          "base_uri": "https://localhost:8080/",
          "height": 406
        },
        "id": "lTm7tmkdzMcw",
        "outputId": "f3b9e7f8-b421-456f-fcd8-73ad5f0175e4"
      },
      "source": [
        "col = ['Gender']\n",
        "plt.figure(figsize=(12, 6))\n",
        "sns.countplot(data=df, x='Gender', hue='Genetic Disorder', palette='summer')"
      ],
      "execution_count": 80,
      "outputs": [
        {
          "output_type": "execute_result",
          "data": {
            "text/plain": [
              "<matplotlib.axes._subplots.AxesSubplot at 0x7f40ff4a72d0>"
            ]
          },
          "metadata": {},
          "execution_count": 80
        },
        {
          "output_type": "display_data",
          "data": {
            "image/png": "[encoded data removed]",
            "text/plain": [
              "<Figure size 864x432 with 1 Axes>"
            ]
          },
          "metadata": {
            "needs_background": "light"
          }
        }
      ]
    },
    {
      "cell_type": "markdown",
      "metadata": {
        "id": "YqW86O1XzWKK"
      },
      "source": [
        "No such relation between Gender and Genetic Disorder"
      ]
    },
    {
      "cell_type": "code",
      "metadata": {
        "colab": {
          "base_uri": "https://localhost:8080/",
          "height": 406
        },
        "id": "YhfyYMIX0aUo",
        "outputId": "7f3cc009-96ac-4783-b488-bea34edf4017"
      },
      "source": [
        "plt.figure(figsize=(12, 6))\n",
        "sns.countplot(data=df, x=\"Maternal gene\", hue='Gender')"
      ],
      "execution_count": 81,
      "outputs": [
        {
          "output_type": "execute_result",
          "data": {
            "text/plain": [
              "<matplotlib.axes._subplots.AxesSubplot at 0x7f40ff4a3910>"
            ]
          },
          "metadata": {},
          "execution_count": 81
        },
        {
          "output_type": "display_data",
          "data": {
            "image/png": "[encoded data removed]",
            "text/plain": [
              "<Figure size 864x432 with 1 Axes>"
            ]
          },
          "metadata": {
            "needs_background": "light"
          }
        }
      ]
    },
    {
      "cell_type": "code",
      "metadata": {
        "colab": {
          "base_uri": "https://localhost:8080/",
          "height": 359
        },
        "id": "BnMRsfGMzsxS",
        "outputId": "430168fa-580b-425b-bee9-0fa553225b8f"
      },
      "source": [
        "df['Blood test result'].value_counts().plot(kind='bar')"
      ],
      "execution_count": 82,
      "outputs": [
        {
          "output_type": "execute_result",
          "data": {
            "text/plain": [
              "<matplotlib.axes._subplots.AxesSubplot at 0x7f40ff480d10>"
            ]
          },
          "metadata": {},
          "execution_count": 82
        },
        {
          "output_type": "display_data",
          "data": {
            "image/png": "[encoded data removed]",
            "text/plain": [
              "<Figure size 432x288 with 1 Axes>"
            ]
          },
          "metadata": {
            "needs_background": "light"
          }
        }
      ]
    },
    {
      "cell_type": "code",
      "metadata": {
        "colab": {
          "base_uri": "https://localhost:8080/",
          "height": 406
        },
        "id": "78XACH8m0oaP",
        "outputId": "0a9cb134-176f-4652-e462-b78b5ec6d009"
      },
      "source": [
        "plt.figure(figsize=(12, 6))\n",
        "sns.countplot(data=df, x=\"Paternal gene\", hue='Gender')"
      ],
      "execution_count": 83,
      "outputs": [
        {
          "output_type": "execute_result",
          "data": {
            "text/plain": [
              "<matplotlib.axes._subplots.AxesSubplot at 0x7f40ff44f710>"
            ]
          },
          "metadata": {},
          "execution_count": 83
        },
        {
          "output_type": "display_data",
          "data": {
            "image/png": "[encoded data removed]",
            "text/plain": [
              "<Figure size 864x432 with 1 Axes>"
            ]
          },
          "metadata": {
            "needs_background": "light"
          }
        }
      ]
    },
    {
      "cell_type": "code",
      "metadata": {
        "colab": {
          "base_uri": "https://localhost:8080/",
          "height": 334
        },
        "id": "HhwCYf_S01e9",
        "outputId": "504b2d1b-38b6-4a55-82ae-8e0b21b36962"
      },
      "source": [
        "plt.hist(df['Patient Age'])"
      ],
      "execution_count": 84,
      "outputs": [
        {
          "output_type": "execute_result",
          "data": {
            "text/plain": [
              "(array([2750., 1396., 2818., 1394., 2801., 2691., 1415., 2666., 1435.,\n",
              "        2717.]),\n",
              " array([ 0. ,  1.4,  2.8,  4.2,  5.6,  7. ,  8.4,  9.8, 11.2, 12.6, 14. ]),\n",
              " <a list of 10 Patch objects>)"
            ]
          },
          "metadata": {},
          "execution_count": 84
        },
        {
          "output_type": "display_data",
          "data": {
            "image/png": "[encoded data removed]",
            "text/plain": [
              "<Figure size 432x288 with 1 Axes>"
            ]
          },
          "metadata": {
            "needs_background": "light"
          }
        }
      ]
    },
    {
      "cell_type": "markdown",
      "metadata": {
        "id": "4FTAvcdJYDVq"
      },
      "source": [
        "# Discretization and Label Encoding"
      ]
    },
    {
      "cell_type": "code",
      "metadata": {
        "colab": {
          "base_uri": "https://localhost:8080/",
          "height": 441
        },
        "id": "kYopihBLYwxY",
        "outputId": "fe20072b-5911-4d67-ad1c-25ae2e07ed8f"
      },
      "source": [
        "num_df=pd.DataFrame(df,columns=['No. of previous abortion','White Blood cell count (thousand per microliter)','Blood cell count (mcL)','Patient Age',\"Mother's age\",\"Father's age\"])\n",
        "num_df"
      ],
      "execution_count": 85,
      "outputs": [
        {
          "output_type": "execute_result",
          "data": {
            "text/html": [
              "<div>\n",
              "<style scoped>\n",
              "    .dataframe tbody tr th:only-of-type {\n",
              "        vertical-align: middle;\n",
              "    }\n",
              "\n",
              "    .dataframe tbody tr th {\n",
              "        vertical-align: top;\n",
              "    }\n",
              "\n",
              "    .dataframe thead th {\n",
              "        text-align: right;\n",
              "    }\n",
              "</style>\n",
              "<table border=\"1\" class=\"dataframe\">\n",
              "  <thead>\n",
              "    <tr style=\"text-align: right;\">\n",
              "      <th></th>\n",
              "      <th>No. of previous abortion</th>\n",
              "      <th>White Blood cell count (thousand per microliter)</th>\n",
              "      <th>Blood cell count (mcL)</th>\n",
              "      <th>Patient Age</th>\n",
              "      <th>Mother's age</th>\n",
              "      <th>Father's age</th>\n",
              "    </tr>\n",
              "  </thead>\n",
              "  <tbody>\n",
              "    <tr>\n",
              "      <th>0</th>\n",
              "      <td>2.003062</td>\n",
              "      <td>9.857562</td>\n",
              "      <td>4.760603</td>\n",
              "      <td>2.0</td>\n",
              "      <td>34.526454</td>\n",
              "      <td>41.972852</td>\n",
              "    </tr>\n",
              "    <tr>\n",
              "      <th>1</th>\n",
              "      <td>2.003062</td>\n",
              "      <td>5.522560</td>\n",
              "      <td>4.910669</td>\n",
              "      <td>4.0</td>\n",
              "      <td>34.526454</td>\n",
              "      <td>23.000000</td>\n",
              "    </tr>\n",
              "    <tr>\n",
              "      <th>2</th>\n",
              "      <td>4.000000</td>\n",
              "      <td>7.486224</td>\n",
              "      <td>4.893297</td>\n",
              "      <td>6.0</td>\n",
              "      <td>41.000000</td>\n",
              "      <td>22.000000</td>\n",
              "    </tr>\n",
              "    <tr>\n",
              "      <th>3</th>\n",
              "      <td>1.000000</td>\n",
              "      <td>7.919321</td>\n",
              "      <td>4.705280</td>\n",
              "      <td>12.0</td>\n",
              "      <td>21.000000</td>\n",
              "      <td>41.972852</td>\n",
              "    </tr>\n",
              "    <tr>\n",
              "      <th>4</th>\n",
              "      <td>4.000000</td>\n",
              "      <td>4.098210</td>\n",
              "      <td>4.720703</td>\n",
              "      <td>11.0</td>\n",
              "      <td>32.000000</td>\n",
              "      <td>41.972852</td>\n",
              "    </tr>\n",
              "    <tr>\n",
              "      <th>...</th>\n",
              "      <td>...</td>\n",
              "      <td>...</td>\n",
              "      <td>...</td>\n",
              "      <td>...</td>\n",
              "      <td>...</td>\n",
              "      <td>...</td>\n",
              "    </tr>\n",
              "    <tr>\n",
              "      <th>22078</th>\n",
              "      <td>3.000000</td>\n",
              "      <td>6.584811</td>\n",
              "      <td>5.258298</td>\n",
              "      <td>4.0</td>\n",
              "      <td>35.000000</td>\n",
              "      <td>64.000000</td>\n",
              "    </tr>\n",
              "    <tr>\n",
              "      <th>22079</th>\n",
              "      <td>2.000000</td>\n",
              "      <td>7.041556</td>\n",
              "      <td>4.974220</td>\n",
              "      <td>8.0</td>\n",
              "      <td>34.526454</td>\n",
              "      <td>56.000000</td>\n",
              "    </tr>\n",
              "    <tr>\n",
              "      <th>22080</th>\n",
              "      <td>2.000000</td>\n",
              "      <td>7.715464</td>\n",
              "      <td>5.186470</td>\n",
              "      <td>8.0</td>\n",
              "      <td>35.000000</td>\n",
              "      <td>51.000000</td>\n",
              "    </tr>\n",
              "    <tr>\n",
              "      <th>22081</th>\n",
              "      <td>1.000000</td>\n",
              "      <td>8.437670</td>\n",
              "      <td>4.858543</td>\n",
              "      <td>7.0</td>\n",
              "      <td>19.000000</td>\n",
              "      <td>41.972852</td>\n",
              "    </tr>\n",
              "    <tr>\n",
              "      <th>22082</th>\n",
              "      <td>4.000000</td>\n",
              "      <td>11.188371</td>\n",
              "      <td>4.738067</td>\n",
              "      <td>11.0</td>\n",
              "      <td>32.000000</td>\n",
              "      <td>62.000000</td>\n",
              "    </tr>\n",
              "  </tbody>\n",
              "</table>\n",
              "<p>22083 rows × 6 columns</p>\n",
              "</div>"
            ],
            "text/plain": [
              "       No. of previous abortion  ...  Father's age\n",
              "0                      2.003062  ...     41.972852\n",
              "1                      2.003062  ...     23.000000\n",
              "2                      4.000000  ...     22.000000\n",
              "3                      1.000000  ...     41.972852\n",
              "4                      4.000000  ...     41.972852\n",
              "...                         ...  ...           ...\n",
              "22078                  3.000000  ...     64.000000\n",
              "22079                  2.000000  ...     56.000000\n",
              "22080                  2.000000  ...     51.000000\n",
              "22081                  1.000000  ...     41.972852\n",
              "22082                  4.000000  ...     62.000000\n",
              "\n",
              "[22083 rows x 6 columns]"
            ]
          },
          "metadata": {},
          "execution_count": 85
        }
      ]
    },
    {
      "cell_type": "code",
      "metadata": {
        "colab": {
          "base_uri": "https://localhost:8080/",
          "height": 281
        },
        "id": "WVdcXs5IYHMY",
        "outputId": "6c9403fa-7999-4128-8ac1-0512524c4395"
      },
      "source": [
        "# retrieve just the numeric input values\n",
        "data = num_df\n",
        "# perform a k-means discretization transform of the dataset\n",
        "trans = KBinsDiscretizer(n_bins=3, encode='ordinal', strategy='kmeans')\n",
        "data = trans.fit_transform(data)\n",
        "# convert the array back to a dataframe\n",
        "dataset = pd.DataFrame(data)\n",
        "# histograms of the variables\n",
        "dataset.hist()\n",
        "pyplot.show()"
      ],
      "execution_count": 86,
      "outputs": [
        {
          "output_type": "display_data",
          "data": {
            "image/png": "[encoded data removed]",
            "text/plain": [
              "<Figure size 432x288 with 6 Axes>"
            ]
          },
          "metadata": {
            "needs_background": "light"
          }
        }
      ]
    },
    {
      "cell_type": "code",
      "metadata": {
        "colab": {
          "base_uri": "https://localhost:8080/",
          "height": 441
        },
        "id": "2hgfHDrdZ89Y",
        "outputId": "64628c6c-7211-46df-9fd3-45401cdec5a1"
      },
      "source": [
        "dataset.columns=['No. of previous abortion','White Blood cell count (thousand per microliter)','Blood cell count (mcL)','Patient Age',\"Mother's age\",\"Father's age\"]\n",
        "dataset"
      ],
      "execution_count": 87,
      "outputs": [
        {
          "output_type": "execute_result",
          "data": {
            "text/html": [
              "<div>\n",
              "<style scoped>\n",
              "    .dataframe tbody tr th:only-of-type {\n",
              "        vertical-align: middle;\n",
              "    }\n",
              "\n",
              "    .dataframe tbody tr th {\n",
              "        vertical-align: top;\n",
              "    }\n",
              "\n",
              "    .dataframe thead th {\n",
              "        text-align: right;\n",
              "    }\n",
              "</style>\n",
              "<table border=\"1\" class=\"dataframe\">\n",
              "  <thead>\n",
              "    <tr style=\"text-align: right;\">\n",
              "      <th></th>\n",
              "      <th>No. of previous abortion</th>\n",
              "      <th>White Blood cell count (thousand per microliter)</th>\n",
              "      <th>Blood cell count (mcL)</th>\n",
              "      <th>Patient Age</th>\n",
              "      <th>Mother's age</th>\n",
              "      <th>Father's age</th>\n",
              "    </tr>\n",
              "  </thead>\n",
              "  <tbody>\n",
              "    <tr>\n",
              "      <th>0</th>\n",
              "      <td>1.0</td>\n",
              "      <td>2.0</td>\n",
              "      <td>0.0</td>\n",
              "      <td>0.0</td>\n",
              "      <td>1.0</td>\n",
              "      <td>1.0</td>\n",
              "    </tr>\n",
              "    <tr>\n",
              "      <th>1</th>\n",
              "      <td>1.0</td>\n",
              "      <td>0.0</td>\n",
              "      <td>1.0</td>\n",
              "      <td>0.0</td>\n",
              "      <td>1.0</td>\n",
              "      <td>0.0</td>\n",
              "    </tr>\n",
              "    <tr>\n",
              "      <th>2</th>\n",
              "      <td>2.0</td>\n",
              "      <td>1.0</td>\n",
              "      <td>1.0</td>\n",
              "      <td>1.0</td>\n",
              "      <td>2.0</td>\n",
              "      <td>0.0</td>\n",
              "    </tr>\n",
              "    <tr>\n",
              "      <th>3</th>\n",
              "      <td>0.0</td>\n",
              "      <td>1.0</td>\n",
              "      <td>0.0</td>\n",
              "      <td>2.0</td>\n",
              "      <td>0.0</td>\n",
              "      <td>1.0</td>\n",
              "    </tr>\n",
              "    <tr>\n",
              "      <th>4</th>\n",
              "      <td>2.0</td>\n",
              "      <td>0.0</td>\n",
              "      <td>0.0</td>\n",
              "      <td>2.0</td>\n",
              "      <td>1.0</td>\n",
              "      <td>1.0</td>\n",
              "    </tr>\n",
              "    <tr>\n",
              "      <th>...</th>\n",
              "      <td>...</td>\n",
              "      <td>...</td>\n",
              "      <td>...</td>\n",
              "      <td>...</td>\n",
              "      <td>...</td>\n",
              "      <td>...</td>\n",
              "    </tr>\n",
              "    <tr>\n",
              "      <th>22078</th>\n",
              "      <td>2.0</td>\n",
              "      <td>1.0</td>\n",
              "      <td>2.0</td>\n",
              "      <td>0.0</td>\n",
              "      <td>1.0</td>\n",
              "      <td>2.0</td>\n",
              "    </tr>\n",
              "    <tr>\n",
              "      <th>22079</th>\n",
              "      <td>1.0</td>\n",
              "      <td>1.0</td>\n",
              "      <td>1.0</td>\n",
              "      <td>1.0</td>\n",
              "      <td>1.0</td>\n",
              "      <td>2.0</td>\n",
              "    </tr>\n",
              "    <tr>\n",
              "      <th>22080</th>\n",
              "      <td>1.0</td>\n",
              "      <td>1.0</td>\n",
              "      <td>2.0</td>\n",
              "      <td>1.0</td>\n",
              "      <td>1.0</td>\n",
              "      <td>2.0</td>\n",
              "    </tr>\n",
              "    <tr>\n",
              "      <th>22081</th>\n",
              "      <td>0.0</td>\n",
              "      <td>1.0</td>\n",
              "      <td>1.0</td>\n",
              "      <td>1.0</td>\n",
              "      <td>0.0</td>\n",
              "      <td>1.0</td>\n",
              "    </tr>\n",
              "    <tr>\n",
              "      <th>22082</th>\n",
              "      <td>2.0</td>\n",
              "      <td>2.0</td>\n",
              "      <td>0.0</td>\n",
              "      <td>2.0</td>\n",
              "      <td>1.0</td>\n",
              "      <td>2.0</td>\n",
              "    </tr>\n",
              "  </tbody>\n",
              "</table>\n",
              "<p>22083 rows × 6 columns</p>\n",
              "</div>"
            ],
            "text/plain": [
              "       No. of previous abortion  ...  Father's age\n",
              "0                           1.0  ...           1.0\n",
              "1                           1.0  ...           0.0\n",
              "2                           2.0  ...           0.0\n",
              "3                           0.0  ...           1.0\n",
              "4                           2.0  ...           1.0\n",
              "...                         ...  ...           ...\n",
              "22078                       2.0  ...           2.0\n",
              "22079                       1.0  ...           2.0\n",
              "22080                       1.0  ...           2.0\n",
              "22081                       0.0  ...           1.0\n",
              "22082                       2.0  ...           2.0\n",
              "\n",
              "[22083 rows x 6 columns]"
            ]
          },
          "metadata": {},
          "execution_count": 87
        }
      ]
    },
    {
      "cell_type": "code",
      "metadata": {
        "id": "uhZfkMlZaDcW"
      },
      "source": [
        "df['No. of previous abortion']=dataset['No. of previous abortion']\n",
        "df['White Blood cell count (thousand per microliter)']=df['White Blood cell count (thousand per microliter)']\n",
        "df['Blood cell count (mcL)']=dataset['Blood cell count (mcL)']\n",
        "df['Patient Age']=dataset['Patient Age']\n",
        "df[\"Mother's age\"]=dataset[\"Mother's age\"]\n",
        "df[\"Father's age\"]=dataset[\"Father's age\"]"
      ],
      "execution_count": 88,
      "outputs": []
    },
    {
      "cell_type": "code",
      "metadata": {
        "colab": {
          "base_uri": "https://localhost:8080/",
          "height": 1000
        },
        "id": "-lg_Nm5naGC7",
        "outputId": "fdaea7c2-5f60-4259-954c-8c1c7c69e02f"
      },
      "source": [
        "df.head(15)"
      ],
      "execution_count": 89,
      "outputs": [
        {
          "output_type": "execute_result",
          "data": {
            "text/html": [
              "<div>\n",
              "<style scoped>\n",
              "    .dataframe tbody tr th:only-of-type {\n",
              "        vertical-align: middle;\n",
              "    }\n",
              "\n",
              "    .dataframe tbody tr th {\n",
              "        vertical-align: top;\n",
              "    }\n",
              "\n",
              "    .dataframe thead th {\n",
              "        text-align: right;\n",
              "    }\n",
              "</style>\n",
              "<table border=\"1\" class=\"dataframe\">\n",
              "  <thead>\n",
              "    <tr style=\"text-align: right;\">\n",
              "      <th></th>\n",
              "      <th>Patient Age</th>\n",
              "      <th>Genes in mother's side</th>\n",
              "      <th>Inherited from father</th>\n",
              "      <th>Maternal gene</th>\n",
              "      <th>Paternal gene</th>\n",
              "      <th>Blood cell count (mcL)</th>\n",
              "      <th>Mother's age</th>\n",
              "      <th>Father's age</th>\n",
              "      <th>Status</th>\n",
              "      <th>Respiratory Rate (breaths/min)</th>\n",
              "      <th>Heart Rate (rates/min</th>\n",
              "      <th>Follow-up</th>\n",
              "      <th>Gender</th>\n",
              "      <th>Folic acid details (peri-conceptional)</th>\n",
              "      <th>H/O serious maternal illness</th>\n",
              "      <th>Assisted conception IVF/ART</th>\n",
              "      <th>History of anomalies in previous pregnancies</th>\n",
              "      <th>No. of previous abortion</th>\n",
              "      <th>Birth defects</th>\n",
              "      <th>White Blood cell count (thousand per microliter)</th>\n",
              "      <th>Blood test result</th>\n",
              "      <th>Symptom 1</th>\n",
              "      <th>Symptom 2</th>\n",
              "      <th>Symptom 3</th>\n",
              "      <th>Symptom 4</th>\n",
              "      <th>Symptom 5</th>\n",
              "      <th>Genetic Disorder</th>\n",
              "      <th>Disorder Subclass</th>\n",
              "    </tr>\n",
              "  </thead>\n",
              "  <tbody>\n",
              "    <tr>\n",
              "      <th>0</th>\n",
              "      <td>0.0</td>\n",
              "      <td>Yes</td>\n",
              "      <td>No</td>\n",
              "      <td>Yes</td>\n",
              "      <td>No</td>\n",
              "      <td>0.0</td>\n",
              "      <td>1.0</td>\n",
              "      <td>1.0</td>\n",
              "      <td>Alive</td>\n",
              "      <td>Normal (30-60)</td>\n",
              "      <td>Normal</td>\n",
              "      <td>High</td>\n",
              "      <td>Ambiguous</td>\n",
              "      <td>No</td>\n",
              "      <td>No</td>\n",
              "      <td>No</td>\n",
              "      <td>Yes</td>\n",
              "      <td>1.0</td>\n",
              "      <td>Singular</td>\n",
              "      <td>9.857562</td>\n",
              "      <td>slightly abnormal</td>\n",
              "      <td>1.0</td>\n",
              "      <td>1.0</td>\n",
              "      <td>1.0</td>\n",
              "      <td>1.0</td>\n",
              "      <td>1.0</td>\n",
              "      <td>Mitochondrial genetic inheritance disorders</td>\n",
              "      <td>Leber's hereditary optic neuropathy</td>\n",
              "    </tr>\n",
              "    <tr>\n",
              "      <th>1</th>\n",
              "      <td>0.0</td>\n",
              "      <td>Yes</td>\n",
              "      <td>Yes</td>\n",
              "      <td>No</td>\n",
              "      <td>No</td>\n",
              "      <td>1.0</td>\n",
              "      <td>1.0</td>\n",
              "      <td>0.0</td>\n",
              "      <td>Deceased</td>\n",
              "      <td>Tachypnea</td>\n",
              "      <td>Normal</td>\n",
              "      <td>High</td>\n",
              "      <td>Ambiguous</td>\n",
              "      <td>Yes</td>\n",
              "      <td>Yes</td>\n",
              "      <td>No</td>\n",
              "      <td>Yes</td>\n",
              "      <td>1.0</td>\n",
              "      <td>Multiple</td>\n",
              "      <td>5.522560</td>\n",
              "      <td>normal</td>\n",
              "      <td>1.0</td>\n",
              "      <td>1.0</td>\n",
              "      <td>1.0</td>\n",
              "      <td>1.0</td>\n",
              "      <td>0.0</td>\n",
              "      <td>Mitochondrial genetic inheritance disorders</td>\n",
              "      <td>Cystic fibrosis</td>\n",
              "    </tr>\n",
              "    <tr>\n",
              "      <th>2</th>\n",
              "      <td>1.0</td>\n",
              "      <td>Yes</td>\n",
              "      <td>No</td>\n",
              "      <td>No</td>\n",
              "      <td>No</td>\n",
              "      <td>1.0</td>\n",
              "      <td>2.0</td>\n",
              "      <td>0.0</td>\n",
              "      <td>Alive</td>\n",
              "      <td>Normal (30-60)</td>\n",
              "      <td>Tachycardia</td>\n",
              "      <td>Low</td>\n",
              "      <td>Ambiguous</td>\n",
              "      <td>Yes</td>\n",
              "      <td>No</td>\n",
              "      <td>Yes</td>\n",
              "      <td>Yes</td>\n",
              "      <td>2.0</td>\n",
              "      <td>Singular</td>\n",
              "      <td>7.486224</td>\n",
              "      <td>normal</td>\n",
              "      <td>0.0</td>\n",
              "      <td>1.0</td>\n",
              "      <td>1.0</td>\n",
              "      <td>1.0</td>\n",
              "      <td>1.0</td>\n",
              "      <td>Multifactorial genetic inheritance disorders</td>\n",
              "      <td>Diabetes</td>\n",
              "    </tr>\n",
              "    <tr>\n",
              "      <th>3</th>\n",
              "      <td>2.0</td>\n",
              "      <td>Yes</td>\n",
              "      <td>No</td>\n",
              "      <td>Yes</td>\n",
              "      <td>No</td>\n",
              "      <td>0.0</td>\n",
              "      <td>0.0</td>\n",
              "      <td>1.0</td>\n",
              "      <td>Deceased</td>\n",
              "      <td>Tachypnea</td>\n",
              "      <td>Normal</td>\n",
              "      <td>High</td>\n",
              "      <td>Male</td>\n",
              "      <td>No</td>\n",
              "      <td>Yes</td>\n",
              "      <td>Yes</td>\n",
              "      <td>Yes</td>\n",
              "      <td>0.0</td>\n",
              "      <td>Singular</td>\n",
              "      <td>7.919321</td>\n",
              "      <td>inconclusive</td>\n",
              "      <td>0.0</td>\n",
              "      <td>0.0</td>\n",
              "      <td>1.0</td>\n",
              "      <td>0.0</td>\n",
              "      <td>0.0</td>\n",
              "      <td>Mitochondrial genetic inheritance disorders</td>\n",
              "      <td>Leigh syndrome</td>\n",
              "    </tr>\n",
              "    <tr>\n",
              "      <th>4</th>\n",
              "      <td>2.0</td>\n",
              "      <td>Yes</td>\n",
              "      <td>No</td>\n",
              "      <td>Yes</td>\n",
              "      <td>Yes</td>\n",
              "      <td>0.0</td>\n",
              "      <td>1.0</td>\n",
              "      <td>1.0</td>\n",
              "      <td>Alive</td>\n",
              "      <td>Tachypnea</td>\n",
              "      <td>Tachycardia</td>\n",
              "      <td>Low</td>\n",
              "      <td>Male</td>\n",
              "      <td>No</td>\n",
              "      <td>Yes</td>\n",
              "      <td>Yes</td>\n",
              "      <td>No</td>\n",
              "      <td>2.0</td>\n",
              "      <td>Multiple</td>\n",
              "      <td>4.098210</td>\n",
              "      <td>slightly abnormal</td>\n",
              "      <td>0.0</td>\n",
              "      <td>0.0</td>\n",
              "      <td>0.0</td>\n",
              "      <td>0.0</td>\n",
              "      <td>0.0</td>\n",
              "      <td>Multifactorial genetic inheritance disorders</td>\n",
              "      <td>Cancer</td>\n",
              "    </tr>\n",
              "    <tr>\n",
              "      <th>5</th>\n",
              "      <td>2.0</td>\n",
              "      <td>Yes</td>\n",
              "      <td>No</td>\n",
              "      <td>Yes</td>\n",
              "      <td>No</td>\n",
              "      <td>2.0</td>\n",
              "      <td>1.0</td>\n",
              "      <td>1.0</td>\n",
              "      <td>Deceased</td>\n",
              "      <td>Normal (30-60)</td>\n",
              "      <td>Normal</td>\n",
              "      <td>Low</td>\n",
              "      <td>Female</td>\n",
              "      <td>No</td>\n",
              "      <td>No</td>\n",
              "      <td>Yes</td>\n",
              "      <td>No</td>\n",
              "      <td>0.0</td>\n",
              "      <td>Multiple</td>\n",
              "      <td>10.272230</td>\n",
              "      <td>normal</td>\n",
              "      <td>1.0</td>\n",
              "      <td>0.0</td>\n",
              "      <td>0.0</td>\n",
              "      <td>1.0</td>\n",
              "      <td>0.0</td>\n",
              "      <td>Single-gene inheritance diseases</td>\n",
              "      <td>Cystic fibrosis</td>\n",
              "    </tr>\n",
              "    <tr>\n",
              "      <th>6</th>\n",
              "      <td>0.0</td>\n",
              "      <td>Yes</td>\n",
              "      <td>No</td>\n",
              "      <td>Yes</td>\n",
              "      <td>Yes</td>\n",
              "      <td>1.0</td>\n",
              "      <td>1.0</td>\n",
              "      <td>2.0</td>\n",
              "      <td>Alive</td>\n",
              "      <td>Normal (30-60)</td>\n",
              "      <td>Normal</td>\n",
              "      <td>Low</td>\n",
              "      <td>Male</td>\n",
              "      <td>Yes</td>\n",
              "      <td>Yes</td>\n",
              "      <td>Yes</td>\n",
              "      <td>No</td>\n",
              "      <td>2.0</td>\n",
              "      <td>Multiple</td>\n",
              "      <td>6.825974</td>\n",
              "      <td>normal</td>\n",
              "      <td>0.0</td>\n",
              "      <td>0.0</td>\n",
              "      <td>0.0</td>\n",
              "      <td>0.0</td>\n",
              "      <td>0.0</td>\n",
              "      <td>Single-gene inheritance diseases</td>\n",
              "      <td>Tay-Sachs</td>\n",
              "    </tr>\n",
              "    <tr>\n",
              "      <th>7</th>\n",
              "      <td>0.0</td>\n",
              "      <td>No</td>\n",
              "      <td>No</td>\n",
              "      <td>Yes</td>\n",
              "      <td>Yes</td>\n",
              "      <td>1.0</td>\n",
              "      <td>1.0</td>\n",
              "      <td>1.0</td>\n",
              "      <td>Alive</td>\n",
              "      <td>Tachypnea</td>\n",
              "      <td>Normal</td>\n",
              "      <td>Low</td>\n",
              "      <td>Ambiguous</td>\n",
              "      <td>Yes</td>\n",
              "      <td>Yes</td>\n",
              "      <td>No</td>\n",
              "      <td>Yes</td>\n",
              "      <td>0.0</td>\n",
              "      <td>Singular</td>\n",
              "      <td>9.836352</td>\n",
              "      <td>inconclusive</td>\n",
              "      <td>0.0</td>\n",
              "      <td>0.0</td>\n",
              "      <td>1.0</td>\n",
              "      <td>0.0</td>\n",
              "      <td>0.0</td>\n",
              "      <td>Single-gene inheritance diseases</td>\n",
              "      <td>Tay-Sachs</td>\n",
              "    </tr>\n",
              "    <tr>\n",
              "      <th>8</th>\n",
              "      <td>2.0</td>\n",
              "      <td>No</td>\n",
              "      <td>No</td>\n",
              "      <td>Yes</td>\n",
              "      <td>No</td>\n",
              "      <td>2.0</td>\n",
              "      <td>2.0</td>\n",
              "      <td>1.0</td>\n",
              "      <td>Alive</td>\n",
              "      <td>Tachypnea</td>\n",
              "      <td>Tachycardia</td>\n",
              "      <td>Low</td>\n",
              "      <td>Male</td>\n",
              "      <td>Yes</td>\n",
              "      <td>Yes</td>\n",
              "      <td>No</td>\n",
              "      <td>Yes</td>\n",
              "      <td>0.0</td>\n",
              "      <td>Multiple</td>\n",
              "      <td>6.669552</td>\n",
              "      <td>slightly abnormal</td>\n",
              "      <td>1.0</td>\n",
              "      <td>1.0</td>\n",
              "      <td>1.0</td>\n",
              "      <td>0.0</td>\n",
              "      <td>1.0</td>\n",
              "      <td>Mitochondrial genetic inheritance disorders</td>\n",
              "      <td>Leigh syndrome</td>\n",
              "    </tr>\n",
              "    <tr>\n",
              "      <th>9</th>\n",
              "      <td>0.0</td>\n",
              "      <td>No</td>\n",
              "      <td>Yes</td>\n",
              "      <td>Yes</td>\n",
              "      <td>Yes</td>\n",
              "      <td>0.0</td>\n",
              "      <td>2.0</td>\n",
              "      <td>1.0</td>\n",
              "      <td>Alive</td>\n",
              "      <td>Tachypnea</td>\n",
              "      <td>Tachycardia</td>\n",
              "      <td>Low</td>\n",
              "      <td>Male</td>\n",
              "      <td>Yes</td>\n",
              "      <td>No</td>\n",
              "      <td>Yes</td>\n",
              "      <td>Yes</td>\n",
              "      <td>0.0</td>\n",
              "      <td>Multiple</td>\n",
              "      <td>6.397702</td>\n",
              "      <td>abnormal</td>\n",
              "      <td>0.0</td>\n",
              "      <td>0.0</td>\n",
              "      <td>1.0</td>\n",
              "      <td>1.0</td>\n",
              "      <td>1.0</td>\n",
              "      <td>Multifactorial genetic inheritance disorders</td>\n",
              "      <td>Diabetes</td>\n",
              "    </tr>\n",
              "    <tr>\n",
              "      <th>10</th>\n",
              "      <td>1.0</td>\n",
              "      <td>Yes</td>\n",
              "      <td>No</td>\n",
              "      <td>Yes</td>\n",
              "      <td>No</td>\n",
              "      <td>0.0</td>\n",
              "      <td>1.0</td>\n",
              "      <td>1.0</td>\n",
              "      <td>Deceased</td>\n",
              "      <td>Tachypnea</td>\n",
              "      <td>Normal</td>\n",
              "      <td>Low</td>\n",
              "      <td>Male</td>\n",
              "      <td>No</td>\n",
              "      <td>Yes</td>\n",
              "      <td>Yes</td>\n",
              "      <td>Yes</td>\n",
              "      <td>0.0</td>\n",
              "      <td>Singular</td>\n",
              "      <td>5.957321</td>\n",
              "      <td>abnormal</td>\n",
              "      <td>1.0</td>\n",
              "      <td>1.0</td>\n",
              "      <td>0.0</td>\n",
              "      <td>0.0</td>\n",
              "      <td>0.0</td>\n",
              "      <td>Single-gene inheritance diseases</td>\n",
              "      <td>Hemochromatosis</td>\n",
              "    </tr>\n",
              "    <tr>\n",
              "      <th>11</th>\n",
              "      <td>1.0</td>\n",
              "      <td>No</td>\n",
              "      <td>No</td>\n",
              "      <td>No</td>\n",
              "      <td>Yes</td>\n",
              "      <td>1.0</td>\n",
              "      <td>1.0</td>\n",
              "      <td>1.0</td>\n",
              "      <td>Deceased</td>\n",
              "      <td>Normal (30-60)</td>\n",
              "      <td>Tachycardia</td>\n",
              "      <td>Low</td>\n",
              "      <td>Male</td>\n",
              "      <td>Yes</td>\n",
              "      <td>Yes</td>\n",
              "      <td>No</td>\n",
              "      <td>Yes</td>\n",
              "      <td>1.0</td>\n",
              "      <td>Multiple</td>\n",
              "      <td>8.409691</td>\n",
              "      <td>slightly abnormal</td>\n",
              "      <td>0.0</td>\n",
              "      <td>1.0</td>\n",
              "      <td>1.0</td>\n",
              "      <td>1.0</td>\n",
              "      <td>1.0</td>\n",
              "      <td>Single-gene inheritance diseases</td>\n",
              "      <td>Cystic fibrosis</td>\n",
              "    </tr>\n",
              "    <tr>\n",
              "      <th>12</th>\n",
              "      <td>0.0</td>\n",
              "      <td>Yes</td>\n",
              "      <td>Yes</td>\n",
              "      <td>No</td>\n",
              "      <td>No</td>\n",
              "      <td>0.0</td>\n",
              "      <td>2.0</td>\n",
              "      <td>2.0</td>\n",
              "      <td>Deceased</td>\n",
              "      <td>Normal (30-60)</td>\n",
              "      <td>Tachycardia</td>\n",
              "      <td>High</td>\n",
              "      <td>Male</td>\n",
              "      <td>Yes</td>\n",
              "      <td>No</td>\n",
              "      <td>Yes</td>\n",
              "      <td>Yes</td>\n",
              "      <td>0.0</td>\n",
              "      <td>Singular</td>\n",
              "      <td>7.995115</td>\n",
              "      <td>slightly abnormal</td>\n",
              "      <td>1.0</td>\n",
              "      <td>1.0</td>\n",
              "      <td>0.0</td>\n",
              "      <td>1.0</td>\n",
              "      <td>0.0</td>\n",
              "      <td>Mitochondrial genetic inheritance disorders</td>\n",
              "      <td>Leigh syndrome</td>\n",
              "    </tr>\n",
              "    <tr>\n",
              "      <th>13</th>\n",
              "      <td>0.0</td>\n",
              "      <td>Yes</td>\n",
              "      <td>No</td>\n",
              "      <td>No</td>\n",
              "      <td>Yes</td>\n",
              "      <td>1.0</td>\n",
              "      <td>0.0</td>\n",
              "      <td>1.0</td>\n",
              "      <td>Deceased</td>\n",
              "      <td>Normal (30-60)</td>\n",
              "      <td>Normal</td>\n",
              "      <td>Low</td>\n",
              "      <td>Ambiguous</td>\n",
              "      <td>No</td>\n",
              "      <td>No</td>\n",
              "      <td>No</td>\n",
              "      <td>Yes</td>\n",
              "      <td>2.0</td>\n",
              "      <td>Multiple</td>\n",
              "      <td>8.440593</td>\n",
              "      <td>abnormal</td>\n",
              "      <td>0.0</td>\n",
              "      <td>1.0</td>\n",
              "      <td>1.0</td>\n",
              "      <td>0.0</td>\n",
              "      <td>0.0</td>\n",
              "      <td>Mitochondrial genetic inheritance disorders</td>\n",
              "      <td>Leigh syndrome</td>\n",
              "    </tr>\n",
              "    <tr>\n",
              "      <th>14</th>\n",
              "      <td>1.0</td>\n",
              "      <td>Yes</td>\n",
              "      <td>No</td>\n",
              "      <td>Yes</td>\n",
              "      <td>No</td>\n",
              "      <td>0.0</td>\n",
              "      <td>2.0</td>\n",
              "      <td>0.0</td>\n",
              "      <td>Alive</td>\n",
              "      <td>Tachypnea</td>\n",
              "      <td>Tachycardia</td>\n",
              "      <td>High</td>\n",
              "      <td>Male</td>\n",
              "      <td>Yes</td>\n",
              "      <td>Yes</td>\n",
              "      <td>No</td>\n",
              "      <td>No</td>\n",
              "      <td>2.0</td>\n",
              "      <td>Multiple</td>\n",
              "      <td>3.000000</td>\n",
              "      <td>slightly abnormal</td>\n",
              "      <td>1.0</td>\n",
              "      <td>0.0</td>\n",
              "      <td>1.0</td>\n",
              "      <td>0.0</td>\n",
              "      <td>1.0</td>\n",
              "      <td>Mitochondrial genetic inheritance disorders</td>\n",
              "      <td>Leigh syndrome</td>\n",
              "    </tr>\n",
              "  </tbody>\n",
              "</table>\n",
              "</div>"
            ],
            "text/plain": [
              "    Patient Age  ...                    Disorder Subclass\n",
              "0           0.0  ...  Leber's hereditary optic neuropathy\n",
              "1           0.0  ...                      Cystic fibrosis\n",
              "2           1.0  ...                             Diabetes\n",
              "3           2.0  ...                       Leigh syndrome\n",
              "4           2.0  ...                               Cancer\n",
              "5           2.0  ...                      Cystic fibrosis\n",
              "6           0.0  ...                            Tay-Sachs\n",
              "7           0.0  ...                            Tay-Sachs\n",
              "8           2.0  ...                       Leigh syndrome\n",
              "9           0.0  ...                             Diabetes\n",
              "10          1.0  ...                      Hemochromatosis\n",
              "11          1.0  ...                      Cystic fibrosis\n",
              "12          0.0  ...                       Leigh syndrome\n",
              "13          0.0  ...                       Leigh syndrome\n",
              "14          1.0  ...                       Leigh syndrome\n",
              "\n",
              "[15 rows x 28 columns]"
            ]
          },
          "metadata": {},
          "execution_count": 89
        }
      ]
    },
    {
      "cell_type": "code",
      "metadata": {
        "id": "xfEr4w-29b3n"
      },
      "source": [
        "#Label encoder,(ranked approach)\n",
        "def leb(df):\n",
        "    from sklearn.preprocessing import LabelEncoder\n",
        "    label = LabelEncoder()\n",
        "    for i in df.columns:\n",
        "        if df[i].dtypes == 'object':\n",
        "            df[i] = label.fit_transform(df[i])\n",
        "    return df\n",
        "df = leb(df)"
      ],
      "execution_count": 90,
      "outputs": []
    },
    {
      "cell_type": "code",
      "metadata": {
        "colab": {
          "base_uri": "https://localhost:8080/",
          "height": 513
        },
        "id": "MiDze6IM9esG",
        "outputId": "e3d1a606-14ad-4099-9bb4-792451f8a86b"
      },
      "source": [
        "df"
      ],
      "execution_count": 91,
      "outputs": [
        {
          "output_type": "execute_result",
          "data": {
            "text/html": [
              "<div>\n",
              "<style scoped>\n",
              "    .dataframe tbody tr th:only-of-type {\n",
              "        vertical-align: middle;\n",
              "    }\n",
              "\n",
              "    .dataframe tbody tr th {\n",
              "        vertical-align: top;\n",
              "    }\n",
              "\n",
              "    .dataframe thead th {\n",
              "        text-align: right;\n",
              "    }\n",
              "</style>\n",
              "<table border=\"1\" class=\"dataframe\">\n",
              "  <thead>\n",
              "    <tr style=\"text-align: right;\">\n",
              "      <th></th>\n",
              "      <th>Patient Age</th>\n",
              "      <th>Genes in mother's side</th>\n",
              "      <th>Inherited from father</th>\n",
              "      <th>Maternal gene</th>\n",
              "      <th>Paternal gene</th>\n",
              "      <th>Blood cell count (mcL)</th>\n",
              "      <th>Mother's age</th>\n",
              "      <th>Father's age</th>\n",
              "      <th>Status</th>\n",
              "      <th>Respiratory Rate (breaths/min)</th>\n",
              "      <th>Heart Rate (rates/min</th>\n",
              "      <th>Follow-up</th>\n",
              "      <th>Gender</th>\n",
              "      <th>Folic acid details (peri-conceptional)</th>\n",
              "      <th>H/O serious maternal illness</th>\n",
              "      <th>Assisted conception IVF/ART</th>\n",
              "      <th>History of anomalies in previous pregnancies</th>\n",
              "      <th>No. of previous abortion</th>\n",
              "      <th>Birth defects</th>\n",
              "      <th>White Blood cell count (thousand per microliter)</th>\n",
              "      <th>Blood test result</th>\n",
              "      <th>Symptom 1</th>\n",
              "      <th>Symptom 2</th>\n",
              "      <th>Symptom 3</th>\n",
              "      <th>Symptom 4</th>\n",
              "      <th>Symptom 5</th>\n",
              "      <th>Genetic Disorder</th>\n",
              "      <th>Disorder Subclass</th>\n",
              "    </tr>\n",
              "  </thead>\n",
              "  <tbody>\n",
              "    <tr>\n",
              "      <th>0</th>\n",
              "      <td>0.0</td>\n",
              "      <td>1</td>\n",
              "      <td>0</td>\n",
              "      <td>1</td>\n",
              "      <td>0</td>\n",
              "      <td>0.0</td>\n",
              "      <td>1.0</td>\n",
              "      <td>1.0</td>\n",
              "      <td>0</td>\n",
              "      <td>0</td>\n",
              "      <td>0</td>\n",
              "      <td>0</td>\n",
              "      <td>0</td>\n",
              "      <td>0</td>\n",
              "      <td>0</td>\n",
              "      <td>0</td>\n",
              "      <td>1</td>\n",
              "      <td>1.0</td>\n",
              "      <td>1</td>\n",
              "      <td>9.857562</td>\n",
              "      <td>3</td>\n",
              "      <td>1.0</td>\n",
              "      <td>1.0</td>\n",
              "      <td>1.0</td>\n",
              "      <td>1.0</td>\n",
              "      <td>1.0</td>\n",
              "      <td>0</td>\n",
              "      <td>5</td>\n",
              "    </tr>\n",
              "    <tr>\n",
              "      <th>1</th>\n",
              "      <td>0.0</td>\n",
              "      <td>1</td>\n",
              "      <td>1</td>\n",
              "      <td>0</td>\n",
              "      <td>0</td>\n",
              "      <td>1.0</td>\n",
              "      <td>1.0</td>\n",
              "      <td>0.0</td>\n",
              "      <td>1</td>\n",
              "      <td>1</td>\n",
              "      <td>0</td>\n",
              "      <td>0</td>\n",
              "      <td>0</td>\n",
              "      <td>1</td>\n",
              "      <td>1</td>\n",
              "      <td>0</td>\n",
              "      <td>1</td>\n",
              "      <td>1.0</td>\n",
              "      <td>0</td>\n",
              "      <td>5.522560</td>\n",
              "      <td>2</td>\n",
              "      <td>1.0</td>\n",
              "      <td>1.0</td>\n",
              "      <td>1.0</td>\n",
              "      <td>1.0</td>\n",
              "      <td>0.0</td>\n",
              "      <td>0</td>\n",
              "      <td>2</td>\n",
              "    </tr>\n",
              "    <tr>\n",
              "      <th>2</th>\n",
              "      <td>1.0</td>\n",
              "      <td>1</td>\n",
              "      <td>0</td>\n",
              "      <td>0</td>\n",
              "      <td>0</td>\n",
              "      <td>1.0</td>\n",
              "      <td>2.0</td>\n",
              "      <td>0.0</td>\n",
              "      <td>0</td>\n",
              "      <td>0</td>\n",
              "      <td>1</td>\n",
              "      <td>1</td>\n",
              "      <td>0</td>\n",
              "      <td>1</td>\n",
              "      <td>0</td>\n",
              "      <td>1</td>\n",
              "      <td>1</td>\n",
              "      <td>2.0</td>\n",
              "      <td>1</td>\n",
              "      <td>7.486224</td>\n",
              "      <td>2</td>\n",
              "      <td>0.0</td>\n",
              "      <td>1.0</td>\n",
              "      <td>1.0</td>\n",
              "      <td>1.0</td>\n",
              "      <td>1.0</td>\n",
              "      <td>1</td>\n",
              "      <td>3</td>\n",
              "    </tr>\n",
              "    <tr>\n",
              "      <th>3</th>\n",
              "      <td>2.0</td>\n",
              "      <td>1</td>\n",
              "      <td>0</td>\n",
              "      <td>1</td>\n",
              "      <td>0</td>\n",
              "      <td>0.0</td>\n",
              "      <td>0.0</td>\n",
              "      <td>1.0</td>\n",
              "      <td>1</td>\n",
              "      <td>1</td>\n",
              "      <td>0</td>\n",
              "      <td>0</td>\n",
              "      <td>2</td>\n",
              "      <td>0</td>\n",
              "      <td>1</td>\n",
              "      <td>1</td>\n",
              "      <td>1</td>\n",
              "      <td>0.0</td>\n",
              "      <td>1</td>\n",
              "      <td>7.919321</td>\n",
              "      <td>1</td>\n",
              "      <td>0.0</td>\n",
              "      <td>0.0</td>\n",
              "      <td>1.0</td>\n",
              "      <td>0.0</td>\n",
              "      <td>0.0</td>\n",
              "      <td>0</td>\n",
              "      <td>6</td>\n",
              "    </tr>\n",
              "    <tr>\n",
              "      <th>4</th>\n",
              "      <td>2.0</td>\n",
              "      <td>1</td>\n",
              "      <td>0</td>\n",
              "      <td>1</td>\n",
              "      <td>1</td>\n",
              "      <td>0.0</td>\n",
              "      <td>1.0</td>\n",
              "      <td>1.0</td>\n",
              "      <td>0</td>\n",
              "      <td>1</td>\n",
              "      <td>1</td>\n",
              "      <td>1</td>\n",
              "      <td>2</td>\n",
              "      <td>0</td>\n",
              "      <td>1</td>\n",
              "      <td>1</td>\n",
              "      <td>0</td>\n",
              "      <td>2.0</td>\n",
              "      <td>0</td>\n",
              "      <td>4.098210</td>\n",
              "      <td>3</td>\n",
              "      <td>0.0</td>\n",
              "      <td>0.0</td>\n",
              "      <td>0.0</td>\n",
              "      <td>0.0</td>\n",
              "      <td>0.0</td>\n",
              "      <td>1</td>\n",
              "      <td>1</td>\n",
              "    </tr>\n",
              "    <tr>\n",
              "      <th>...</th>\n",
              "      <td>...</td>\n",
              "      <td>...</td>\n",
              "      <td>...</td>\n",
              "      <td>...</td>\n",
              "      <td>...</td>\n",
              "      <td>...</td>\n",
              "      <td>...</td>\n",
              "      <td>...</td>\n",
              "      <td>...</td>\n",
              "      <td>...</td>\n",
              "      <td>...</td>\n",
              "      <td>...</td>\n",
              "      <td>...</td>\n",
              "      <td>...</td>\n",
              "      <td>...</td>\n",
              "      <td>...</td>\n",
              "      <td>...</td>\n",
              "      <td>...</td>\n",
              "      <td>...</td>\n",
              "      <td>...</td>\n",
              "      <td>...</td>\n",
              "      <td>...</td>\n",
              "      <td>...</td>\n",
              "      <td>...</td>\n",
              "      <td>...</td>\n",
              "      <td>...</td>\n",
              "      <td>...</td>\n",
              "      <td>...</td>\n",
              "    </tr>\n",
              "    <tr>\n",
              "      <th>22078</th>\n",
              "      <td>0.0</td>\n",
              "      <td>1</td>\n",
              "      <td>1</td>\n",
              "      <td>1</td>\n",
              "      <td>0</td>\n",
              "      <td>2.0</td>\n",
              "      <td>1.0</td>\n",
              "      <td>2.0</td>\n",
              "      <td>1</td>\n",
              "      <td>0</td>\n",
              "      <td>1</td>\n",
              "      <td>0</td>\n",
              "      <td>1</td>\n",
              "      <td>1</td>\n",
              "      <td>0</td>\n",
              "      <td>1</td>\n",
              "      <td>0</td>\n",
              "      <td>2.0</td>\n",
              "      <td>0</td>\n",
              "      <td>6.584811</td>\n",
              "      <td>1</td>\n",
              "      <td>0.0</td>\n",
              "      <td>0.0</td>\n",
              "      <td>1.0</td>\n",
              "      <td>0.0</td>\n",
              "      <td>0.0</td>\n",
              "      <td>0</td>\n",
              "      <td>6</td>\n",
              "    </tr>\n",
              "    <tr>\n",
              "      <th>22079</th>\n",
              "      <td>1.0</td>\n",
              "      <td>0</td>\n",
              "      <td>1</td>\n",
              "      <td>0</td>\n",
              "      <td>1</td>\n",
              "      <td>1.0</td>\n",
              "      <td>1.0</td>\n",
              "      <td>2.0</td>\n",
              "      <td>0</td>\n",
              "      <td>0</td>\n",
              "      <td>0</td>\n",
              "      <td>0</td>\n",
              "      <td>0</td>\n",
              "      <td>1</td>\n",
              "      <td>1</td>\n",
              "      <td>1</td>\n",
              "      <td>0</td>\n",
              "      <td>1.0</td>\n",
              "      <td>0</td>\n",
              "      <td>7.041556</td>\n",
              "      <td>1</td>\n",
              "      <td>1.0</td>\n",
              "      <td>1.0</td>\n",
              "      <td>1.0</td>\n",
              "      <td>1.0</td>\n",
              "      <td>0.0</td>\n",
              "      <td>1</td>\n",
              "      <td>3</td>\n",
              "    </tr>\n",
              "    <tr>\n",
              "      <th>22080</th>\n",
              "      <td>1.0</td>\n",
              "      <td>1</td>\n",
              "      <td>0</td>\n",
              "      <td>1</td>\n",
              "      <td>0</td>\n",
              "      <td>2.0</td>\n",
              "      <td>1.0</td>\n",
              "      <td>2.0</td>\n",
              "      <td>1</td>\n",
              "      <td>1</td>\n",
              "      <td>0</td>\n",
              "      <td>0</td>\n",
              "      <td>2</td>\n",
              "      <td>0</td>\n",
              "      <td>0</td>\n",
              "      <td>0</td>\n",
              "      <td>0</td>\n",
              "      <td>1.0</td>\n",
              "      <td>1</td>\n",
              "      <td>7.715464</td>\n",
              "      <td>2</td>\n",
              "      <td>0.0</td>\n",
              "      <td>0.0</td>\n",
              "      <td>0.0</td>\n",
              "      <td>1.0</td>\n",
              "      <td>0.0</td>\n",
              "      <td>0</td>\n",
              "      <td>7</td>\n",
              "    </tr>\n",
              "    <tr>\n",
              "      <th>22081</th>\n",
              "      <td>1.0</td>\n",
              "      <td>1</td>\n",
              "      <td>0</td>\n",
              "      <td>1</td>\n",
              "      <td>1</td>\n",
              "      <td>1.0</td>\n",
              "      <td>0.0</td>\n",
              "      <td>1.0</td>\n",
              "      <td>0</td>\n",
              "      <td>1</td>\n",
              "      <td>1</td>\n",
              "      <td>0</td>\n",
              "      <td>2</td>\n",
              "      <td>1</td>\n",
              "      <td>1</td>\n",
              "      <td>1</td>\n",
              "      <td>0</td>\n",
              "      <td>0.0</td>\n",
              "      <td>0</td>\n",
              "      <td>8.437670</td>\n",
              "      <td>0</td>\n",
              "      <td>1.0</td>\n",
              "      <td>1.0</td>\n",
              "      <td>1.0</td>\n",
              "      <td>0.0</td>\n",
              "      <td>0.0</td>\n",
              "      <td>0</td>\n",
              "      <td>6</td>\n",
              "    </tr>\n",
              "    <tr>\n",
              "      <th>22082</th>\n",
              "      <td>2.0</td>\n",
              "      <td>1</td>\n",
              "      <td>0</td>\n",
              "      <td>0</td>\n",
              "      <td>0</td>\n",
              "      <td>0.0</td>\n",
              "      <td>1.0</td>\n",
              "      <td>2.0</td>\n",
              "      <td>1</td>\n",
              "      <td>0</td>\n",
              "      <td>0</td>\n",
              "      <td>0</td>\n",
              "      <td>1</td>\n",
              "      <td>1</td>\n",
              "      <td>1</td>\n",
              "      <td>1</td>\n",
              "      <td>1</td>\n",
              "      <td>2.0</td>\n",
              "      <td>1</td>\n",
              "      <td>11.188371</td>\n",
              "      <td>2</td>\n",
              "      <td>1.0</td>\n",
              "      <td>0.0</td>\n",
              "      <td>1.0</td>\n",
              "      <td>1.0</td>\n",
              "      <td>1.0</td>\n",
              "      <td>1</td>\n",
              "      <td>3</td>\n",
              "    </tr>\n",
              "  </tbody>\n",
              "</table>\n",
              "<p>22083 rows × 28 columns</p>\n",
              "</div>"
            ],
            "text/plain": [
              "       Patient Age  Genes in mother's side  ...  Genetic Disorder  Disorder Subclass\n",
              "0              0.0                       1  ...                 0                  5\n",
              "1              0.0                       1  ...                 0                  2\n",
              "2              1.0                       1  ...                 1                  3\n",
              "3              2.0                       1  ...                 0                  6\n",
              "4              2.0                       1  ...                 1                  1\n",
              "...            ...                     ...  ...               ...                ...\n",
              "22078          0.0                       1  ...                 0                  6\n",
              "22079          1.0                       0  ...                 1                  3\n",
              "22080          1.0                       1  ...                 0                  7\n",
              "22081          1.0                       1  ...                 0                  6\n",
              "22082          2.0                       1  ...                 1                  3\n",
              "\n",
              "[22083 rows x 28 columns]"
            ]
          },
          "metadata": {},
          "execution_count": 91
        }
      ]
    },
    {
      "cell_type": "markdown",
      "metadata": {
        "id": "jA_kWyImxz-A"
      },
      "source": [
        "## PCA"
      ]
    },
    {
      "cell_type": "code",
      "metadata": {
        "id": "fG-aPoVY3KqH"
      },
      "source": [
        "X = df.iloc[:,:-1]\n",
        "y = df.iloc[:,-1]\n",
        "\n",
        "#Split train-test data\n",
        "X_train, X_test, y_train, y_test = train_test_split(X,y,test_size=0.15)"
      ],
      "execution_count": 92,
      "outputs": []
    },
    {
      "cell_type": "code",
      "metadata": {
        "id": "KHzX1c6KyeD-"
      },
      "source": [
        "from sklearn.preprocessing import StandardScaler\n",
        "scaler = StandardScaler()\n",
        "# Fit on training set only.\n",
        "scaler.fit(X_train)\n",
        "# Apply transform to both the training set and the test set.\n",
        "X_train_pca = scaler.transform(X_train)\n",
        "X_test_pca = scaler.transform(X_test)"
      ],
      "execution_count": 93,
      "outputs": []
    },
    {
      "cell_type": "code",
      "metadata": {
        "id": "C81Cq6E7ysc2"
      },
      "source": [
        "from sklearn.decomposition import PCA\n",
        "# Make an instance of the Model\n",
        "pca = PCA(.80)"
      ],
      "execution_count": 94,
      "outputs": []
    },
    {
      "cell_type": "code",
      "metadata": {
        "colab": {
          "base_uri": "https://localhost:8080/"
        },
        "id": "ow3wUfTqyx4u",
        "outputId": "c9256de7-6b91-4e15-8080-e2a42f3f52fb"
      },
      "source": [
        "pca.fit(X_train_pca)"
      ],
      "execution_count": 95,
      "outputs": [
        {
          "output_type": "execute_result",
          "data": {
            "text/plain": [
              "PCA(n_components=0.8)"
            ]
          },
          "metadata": {},
          "execution_count": 95
        }
      ]
    },
    {
      "cell_type": "code",
      "metadata": {
        "id": "3apTzhxry5Io"
      },
      "source": [
        "X_train = pca.transform(X_train_pca)\n",
        "X_test = pca.transform(X_test_pca)"
      ],
      "execution_count": 96,
      "outputs": []
    },
    {
      "cell_type": "code",
      "metadata": {
        "colab": {
          "base_uri": "https://localhost:8080/"
        },
        "id": "yoLGYFzFtWwM",
        "outputId": "dc4a2585-54d0-4c7f-db31-25190550c28d"
      },
      "source": [
        "print(X_train)"
      ],
      "execution_count": 97,
      "outputs": [
        {
          "output_type": "stream",
          "name": "stdout",
          "text": [
            "[[ 0.16711409  0.74999843 -1.06387963 ... -0.29665356 -0.15994906\n",
            "  -1.43133294]\n",
            " [-0.05409417  1.12779738 -0.64137023 ...  0.18210288  0.76477337\n",
            "   0.26687655]\n",
            " [-0.31510369  0.27882796  0.00757384 ...  0.74595897 -1.75358517\n",
            "   0.37470982]\n",
            " ...\n",
            " [ 0.6806545  -0.13752655 -0.50413345 ... -1.07573869  1.81386763\n",
            "   0.35676655]\n",
            " [-0.03765485  0.17040821 -1.1699141  ... -1.67379889 -0.0537022\n",
            "  -0.23921629]\n",
            " [-0.13669806 -0.4091552  -0.62301636 ...  0.00310394  0.13905176\n",
            "  -0.0895426 ]]\n"
          ]
        }
      ]
    },
    {
      "cell_type": "code",
      "metadata": {
        "colab": {
          "base_uri": "https://localhost:8080/"
        },
        "id": "V_XBGsG_zT0S",
        "outputId": "711b63a8-863f-423c-e992-7fc9ee769fd8"
      },
      "source": [
        "from sklearn.ensemble import RandomForestClassifier\n",
        "classifier = RandomForestClassifier(n_estimators = 100, criterion = 'entropy',random_state=100)\n",
        "classifier.fit(X_train_pca, y_train)"
      ],
      "execution_count": 98,
      "outputs": [
        {
          "output_type": "execute_result",
          "data": {
            "text/plain": [
              "RandomForestClassifier(criterion='entropy', random_state=100)"
            ]
          },
          "metadata": {},
          "execution_count": 98
        }
      ]
    },
    {
      "cell_type": "code",
      "metadata": {
        "id": "ajSC_6UxziC1"
      },
      "source": [
        "y_pred = classifier.predict(X_test_pca)"
      ],
      "execution_count": 99,
      "outputs": []
    },
    {
      "cell_type": "code",
      "metadata": {
        "colab": {
          "base_uri": "https://localhost:8080/"
        },
        "id": "14jMw0fZzlhm",
        "outputId": "52b3afc8-5405-4b6f-de71-7d32a4470fdb"
      },
      "source": [
        "from sklearn.metrics import confusion_matrix, accuracy_score\n",
        "cm = confusion_matrix(y_test, y_pred)\n",
        "print(cm)\n",
        "accuracy_score(y_test, y_pred)"
      ],
      "execution_count": 100,
      "outputs": [
        {
          "output_type": "stream",
          "name": "stdout",
          "text": [
            "[[  0   0   0  19   0   2   2   0   0]\n",
            " [  0  11   0   2   0   0   0   0   0]\n",
            " [  0   0 452   0   2   3  40   1  44]\n",
            " [  0   0   0 262   0   2  18   0   0]\n",
            " [  0   0   5   0  40   0   4  10 110]\n",
            " [  0   0   1   1   0  56  46   0   0]\n",
            " [  0   2  51  27   3   9 754 199  48]\n",
            " [  0   0   0   0   0   1 439 214   0]\n",
            " [  0   0  44   0  30   0  25  17 317]]\n"
          ]
        },
        {
          "output_type": "execute_result",
          "data": {
            "text/plain": [
              "0.6356776335647449"
            ]
          },
          "metadata": {},
          "execution_count": 100
        }
      ]
    },
    {
      "cell_type": "markdown",
      "metadata": {
        "id": "QKQJ9sxNbPeS"
      },
      "source": [
        "# SMOTE\n",
        "## BALANCING THE DATASET"
      ]
    },
    {
      "cell_type": "code",
      "metadata": {
        "colab": {
          "base_uri": "https://localhost:8080/"
        },
        "id": "DR6-XMTJbWrP",
        "outputId": "28d03233-610a-4e98-dd0f-d930f2cff396"
      },
      "source": [
        "print(\"Before oversampling: \",Counter(y_train))\n",
        "\n",
        "# define oversampling strategy\n",
        "SMOTE = SMOTE()\n",
        "\n",
        "# fit and apply the transform\n",
        "X_train_SMOTE, y_train_SMOTE = SMOTE.fit_resample(X_train_pca, y_train)\n",
        "\n",
        "# summarize class distribution\n",
        "print(\"After oversampling: \",Counter(y_train_SMOTE))"
      ],
      "execution_count": 101,
      "outputs": [
        {
          "output_type": "stream",
          "name": "stdout",
          "text": [
            "Before oversampling:  Counter({6: 6235, 7: 3751, 2: 2906, 8: 2400, 3: 1535, 4: 1186, 5: 544, 0: 129, 1: 84})\n",
            "After oversampling:  Counter({7: 6235, 6: 6235, 2: 6235, 3: 6235, 8: 6235, 4: 6235, 5: 6235, 1: 6235, 0: 6235})\n"
          ]
        }
      ]
    },
    {
      "cell_type": "markdown",
      "metadata": {
        "id": "7wOK6qvgKSIp"
      },
      "source": [
        "#Models for predicting Genetic Disorder "
      ]
    },
    {
      "cell_type": "markdown",
      "metadata": {
        "id": "pMq5sZTZeSMt"
      },
      "source": [
        "##CART"
      ]
    },
    {
      "cell_type": "code",
      "metadata": {
        "colab": {
          "base_uri": "https://localhost:8080/"
        },
        "id": "mKJmiHzJeRfL",
        "outputId": "093289be-bfdd-4e0d-9cc2-88f569fdb1de"
      },
      "source": [
        "\n",
        "# Function to perform training with giniIndex.\n",
        "def train_using_gini(X_train, X_test, y_train):\n",
        "\n",
        "\t# Creating the classifier object\n",
        "\tclf_gini = DecisionTreeClassifier(criterion = \"gini\",\n",
        "\t\t\trandom_state = 30,max_depth=10, min_samples_leaf=12)\n",
        "\n",
        "\t# Performing training\n",
        "\tclf_gini.fit(X_train, y_train)\n",
        "\treturn clf_gini\n",
        "\t\n",
        "# Function to perform training with entropy.\n",
        "def tarin_using_entropy(X_train, X_test, y_train):\n",
        "\n",
        "\t# Decision tree with entropy\n",
        "\tclf_entropy = DecisionTreeClassifier(\n",
        "\t\t\tcriterion = \"entropy\", random_state = 30,\n",
        "\t\t\tmax_depth = 10, min_samples_leaf = 12)\n",
        "\n",
        "\t# Performing training\n",
        "\tclf_entropy.fit(X_train, y_train)\n",
        "\treturn clf_entropy\n",
        "\n",
        "\n",
        "# Function to make predictions\n",
        "def prediction(X_test, clf_object):\n",
        "\n",
        "\t# Predicton on test with giniIndex\n",
        "\ty_pred = clf_object.predict(X_test)\n",
        "\tprint(\"Predicted values:\")\n",
        "\tprint(y_pred)\n",
        "\treturn y_pred\n",
        "\t\n",
        "# Function to calculate accuracy\n",
        "def cal_accuracy(y_test, y_pred):\n",
        "\t\n",
        "\tprint(\"Confusion Matrix: \",\n",
        "\t\tconfusion_matrix(y_test, y_pred))\n",
        "\t\n",
        "\tprint (\"Accuracy : \",\n",
        "\taccuracy_score(y_test,y_pred)*100)\n",
        "\n",
        "# Driver code\n",
        "def main():\n",
        "\t\n",
        "\t# Building Phase\n",
        "\t#data = importdata()\n",
        "\t#X, Y, X_train, X_test, y_train, y_test = splitdataset(data)\n",
        "\tclf_gini = train_using_gini(X_train_SMOTE, X_test_pca, y_train_SMOTE)\n",
        "\tclf_entropy = tarin_using_entropy(X_train_SMOTE, X_test_pca, y_train_SMOTE)\n",
        "\t\n",
        "\t# Operational Phase\n",
        "\tprint(\"Results Using Gini Index:\")\n",
        "\t\n",
        "\t# Prediction using gini\n",
        "\ty_pred_gini = prediction(X_test_pca, clf_gini)\n",
        "\tcal_accuracy(y_test, y_pred_gini)\n",
        "\t\n",
        "\tprint(\"Results Using Entropy:\")\n",
        "\t# Prediction using entropy\n",
        "\ty_pred_entropy = prediction(X_test_pca, clf_entropy)\n",
        "\tcal_accuracy(y_test, y_pred_entropy)\n",
        "\t\n",
        "\t\n",
        "# Calling main function\n",
        "if __name__==\"__main__\":\n",
        "\tmain()"
      ],
      "execution_count": 105,
      "outputs": [
        {
          "output_type": "stream",
          "name": "stdout",
          "text": [
            "Results Using Gini Index:\n",
            "Predicted values:\n",
            "[6 7 3 ... 6 7 5]\n",
            "Confusion Matrix:  [[  8   0   0  11   0   2   2   0   0]\n",
            " [  0  12   0   1   0   0   0   0   0]\n",
            " [  0   0 446   0   4   7  31   9  45]\n",
            " [ 41   3   1 217   0   7  11   2   0]\n",
            " [  0   0   3   0  76   0   8   6  76]\n",
            " [  0   0   0   1   0  75  25   3   0]\n",
            " [  5   2  57  22  18  27 604 322  36]\n",
            " [  0   0   2   0   0   4 314 331   3]\n",
            " [  0   0  46   0 108   0  17  23 239]]\n",
            "Accuracy :  60.6097192876547\n",
            "Results Using Entropy:\n",
            "Predicted values:\n",
            "[6 7 3 ... 6 6 5]\n",
            "Confusion Matrix:  [[  7   0   0  12   0   2   2   0   0]\n",
            " [  0  12   0   1   0   0   0   0   0]\n",
            " [  0   0 447   0   2   7  33   3  50]\n",
            " [ 39   1   2 220   0   7   9   3   1]\n",
            " [  0   0   3   0  77   0   6   7  76]\n",
            " [  0   0   1   0   0  77  25   1   0]\n",
            " [  3   2  55  24  18  28 579 345  39]\n",
            " [  0   0   2   0   2   4 317 324   5]\n",
            " [  0   0  53   0  94   0  15  25 246]]\n",
            "Accuracy :  60.03622094778147\n"
          ]
        }
      ]
    },
    {
      "cell_type": "markdown",
      "metadata": {
        "id": "JxVLc7zEqJH5"
      },
      "source": [
        "## Naive Bayes Classifier"
      ]
    },
    {
      "cell_type": "code",
      "metadata": {
        "colab": {
          "base_uri": "https://localhost:8080/"
        },
        "id": "SeuwxvueqNA4",
        "outputId": "a83784ab-273e-430b-c268-8bb92c09061b"
      },
      "source": [
        "# training the model on training set\n",
        "\n",
        "gnb = GaussianNB()\n",
        "gnb.fit(X_train_SMOTE, y_train_SMOTE)\n",
        " \n",
        "# making predictions on the testing set\n",
        "y_pred = gnb.predict(X_test_pca)\n",
        " \n",
        "# comparing actual response values (y_test) with predicted response values (y_pred)\n",
        "\n",
        "print(\"Gaussian Naive Bayes model accuracy(in %):\", metrics.accuracy_score(y_test, y_pred)*100)"
      ],
      "execution_count": 108,
      "outputs": [
        {
          "output_type": "stream",
          "name": "stdout",
          "text": [
            "Gaussian Naive Bayes model accuracy(in %): 51.10172049501962\n"
          ]
        }
      ]
    },
    {
      "cell_type": "code",
      "metadata": {
        "colab": {
          "base_uri": "https://localhost:8080/"
        },
        "id": "KcDT5BQdvc4P",
        "outputId": "3072eb4a-78c7-455d-cc8d-3a3471302cd8"
      },
      "source": [
        "pipe = Pipeline(steps=[\n",
        "                    ('pca', PCA()),\n",
        "                    ('estimator', GaussianNB()),\n",
        "                    ])\n",
        "    \n",
        "parameters = {'estimator__var_smoothing': [1e-11, 1e-10, 1e-9]}\n",
        "Bayes = RandomizedSearchCV(pipe, parameters, scoring='accuracy', cv=10).fit(X_train_SMOTE, y_train_SMOTE)\n",
        "print(Bayes.best_estimator_)\n",
        "print('best score:')\n",
        "print(Bayes.best_score_)\n",
        "predictions = Bayes.best_estimator_.predict(X_test_pca)"
      ],
      "execution_count": 109,
      "outputs": [
        {
          "output_type": "stream",
          "name": "stderr",
          "text": [
            "/usr/local/lib/python3.7/dist-packages/sklearn/model_selection/_search.py:296: UserWarning: The total space of parameters 3 is smaller than n_iter=10. Running 3 iterations. For exhaustive searches, use GridSearchCV.\n",
            "  UserWarning,\n"
          ]
        },
        {
          "output_type": "stream",
          "name": "stdout",
          "text": [
            "Pipeline(steps=[('pca', PCA()), ('estimator', GaussianNB(var_smoothing=1e-11))])\n",
            "best score:\n",
            "0.699065617722443\n"
          ]
        }
      ]
    },
    {
      "cell_type": "code",
      "metadata": {
        "colab": {
          "base_uri": "https://localhost:8080/"
        },
        "id": "PU54wT7C6beN",
        "outputId": "e81810c3-b062-47d1-c0af-757fc5c3909b"
      },
      "source": [
        "cm = confusion_matrix(y_test, predictions)\n",
        "print(cm)"
      ],
      "execution_count": 110,
      "outputs": [
        {
          "output_type": "stream",
          "name": "stdout",
          "text": [
            "[[ 12   0   0   7   0   1   3   0   0]\n",
            " [  0   7   0   0   4   0   0   0   2]\n",
            " [  3   0 436  15   1   9  23   7  48]\n",
            " [ 37   0  32 161   0  13  34   1   4]\n",
            " [  0   7   2   0  82   0   0  12  66]\n",
            " [  9   0   0  10   0  72  12   1   0]\n",
            " [  5   5  51  44  17  31 342 562  36]\n",
            " [  0   3   0   3   0   4 123 521   0]\n",
            " [  0   2  26   1 121   0   4  34 245]]\n"
          ]
        }
      ]
    },
    {
      "cell_type": "code",
      "metadata": {
        "colab": {
          "base_uri": "https://localhost:8080/"
        },
        "id": "7wIM-GQzvs7p",
        "outputId": "e4621550-bc78-40b6-ec45-cddf63aee47c"
      },
      "source": [
        "print(\"On tuning\")\n",
        "accuracy_score(y_test, predictions)"
      ],
      "execution_count": 111,
      "outputs": [
        {
          "output_type": "stream",
          "name": "stdout",
          "text": [
            "On tuning\n"
          ]
        },
        {
          "output_type": "execute_result",
          "data": {
            "text/plain": [
              "0.5668578327799577"
            ]
          },
          "metadata": {},
          "execution_count": 111
        }
      ]
    },
    {
      "cell_type": "markdown",
      "metadata": {
        "id": "1B7bG4oqRYKf"
      },
      "source": [
        "## KNN"
      ]
    },
    {
      "cell_type": "code",
      "metadata": {
        "id": "hpRomAuhRZwc"
      },
      "source": [
        "#Create KNN Classifier\n",
        "knn = KNeighborsClassifier()\n",
        "\n",
        "#Train the model using the training sets\n",
        "knn.fit(X_train_SMOTE, y_train_SMOTE)\n",
        "\n",
        "#Predict the response for test dataset\n",
        "y_pred = knn.predict(X_test_pca)"
      ],
      "execution_count": 112,
      "outputs": []
    },
    {
      "cell_type": "code",
      "metadata": {
        "colab": {
          "base_uri": "https://localhost:8080/"
        },
        "id": "2IE7h2kgReJy",
        "outputId": "64b4cb5f-a7e8-424b-9169-c97d49bfef93"
      },
      "source": [
        "#Import scikit-learn metrics module for accuracy calculation\n",
        "from sklearn import metrics\n",
        "# Model Accuracy, how often is the classifier correct?\n",
        "print(\"Accuracy:\",metrics.accuracy_score(y_test, y_pred))"
      ],
      "execution_count": 113,
      "outputs": [
        {
          "output_type": "stream",
          "name": "stdout",
          "text": [
            "Accuracy: 0.3374584968306671\n"
          ]
        }
      ]
    },
    {
      "cell_type": "code",
      "metadata": {
        "colab": {
          "base_uri": "https://localhost:8080/"
        },
        "id": "XpxSBLHkRfCU",
        "outputId": "b382507d-a312-45d5-9eaa-cbe510952199"
      },
      "source": [
        "print(\"Confusion Matrix: \",\n",
        "\t\tconfusion_matrix(y_test, y_pred))"
      ],
      "execution_count": 114,
      "outputs": [
        {
          "output_type": "stream",
          "name": "stdout",
          "text": [
            "Confusion Matrix:  [[  5   0   3   7   0   7   1   0   0]\n",
            " [  0   7   0   0   2   0   1   2   1]\n",
            " [ 49   2 228 137  31  27  11  11  46]\n",
            " [ 46   0  50 108   5  47  13   5   8]\n",
            " [  0  16   5   5  71   1   6   9  56]\n",
            " [ 12   0   6  22   0  58   2   3   1]\n",
            " [ 26  26  87 142  58 109 231 347  67]\n",
            " [  7  31  25  50  53  34 173 250  31]\n",
            " [  3  15  46  12 151   3  20  23 160]]\n"
          ]
        }
      ]
    },
    {
      "cell_type": "code",
      "metadata": {
        "id": "TqivgBdhXgu8",
        "colab": {
          "base_uri": "https://localhost:8080/"
        },
        "outputId": "473b91e5-58ee-469a-b68d-201d19631b2e"
      },
      "source": [
        "# TUNING\n",
        "# TUNING\n",
        "from sklearn.model_selection import GridSearchCV\n",
        "#List Hyperparameters that we want to tune.\n",
        "leaf_size = list(range(1,50))\n",
        "n_neighbors = list(range(1,30))\n",
        "p=[1,2]\n",
        "#Convert to dictionary\n",
        "hyperparameters = dict(leaf_size=leaf_size, n_neighbors=n_neighbors, p=p)\n",
        "#Create new KNN object\n",
        "knn_2 = KNeighborsClassifier()\n",
        "#Use GridSearch\n",
        "clf = RandomizedSearchCV(knn_2, hyperparameters, cv=10)\n",
        "#Fit the model\n",
        "best_model = clf.fit(X_train_SMOTE,y_train_SMOTE)\n",
        "#Print The value of best Hyperparameters\n",
        "print('Best leaf_size:', best_model.best_estimator_.get_params()['leaf_size'])\n",
        "print('Best p:', best_model.best_estimator_.get_params()['p'])\n",
        "print('Best n_neighbors:', best_model.best_estimator_.get_params()['n_neighbors'])"
      ],
      "execution_count": 115,
      "outputs": [
        {
          "output_type": "stream",
          "name": "stdout",
          "text": [
            "Best leaf_size: 35\n",
            "Best p: 2\n",
            "Best n_neighbors: 2\n"
          ]
        }
      ]
    },
    {
      "cell_type": "code",
      "metadata": {
        "id": "AHzUZB5LXap7"
      },
      "source": [
        "# KNN ON TUNING\n",
        "from sklearn.neighbors import KNeighborsClassifier\n",
        "\n",
        "#Create KNN Classifier\n",
        "knn = KNeighborsClassifier(leaf_size=14, p= 1, n_neighbors= 3)\n",
        "\n",
        "#Train the model using the training sets\n",
        "knn.fit(X_train_SMOTE, y_train_SMOTE)\n",
        "\n",
        "#Predict the response for test dataset\n",
        "y_pred = knn.predict(X_test_pca)"
      ],
      "execution_count": 116,
      "outputs": []
    },
    {
      "cell_type": "code",
      "metadata": {
        "id": "v6IN52wuX2pf",
        "colab": {
          "base_uri": "https://localhost:8080/"
        },
        "outputId": "4f089825-446a-4755-bb2b-d3bbe9b98806"
      },
      "source": [
        "print(\"Confusion Matrix: \",\n",
        "\t\tconfusion_matrix(y_test, y_pred))"
      ],
      "execution_count": 117,
      "outputs": [
        {
          "output_type": "stream",
          "name": "stdout",
          "text": [
            "Confusion Matrix:  [[  3   0   5  11   0   3   1   0   0]\n",
            " [  0   4   0   0   2   0   3   2   2]\n",
            " [ 14   0 305  75  22  16  51   9  50]\n",
            " [ 18   0  62 131   4  21  34  10   2]\n",
            " [  0   6  18   2  57   0  12   7  67]\n",
            " [  3   0  15  17   0  44  17   7   1]\n",
            " [  4   6 116  81  34  58 434 304  56]\n",
            " [  3   5  41  21  27   9 309 221  18]\n",
            " [  0   1  73  11 113   3  49  19 164]]\n"
          ]
        }
      ]
    },
    {
      "cell_type": "code",
      "metadata": {
        "id": "PM8Cx1DtXulo",
        "colab": {
          "base_uri": "https://localhost:8080/"
        },
        "outputId": "767fccd3-c9fe-4cc9-bb6a-af5d865c26bd"
      },
      "source": [
        "#Import scikit-learn metrics module for accuracy calculation\n",
        "from sklearn import metrics\n",
        "# Model Accuracy, how often is the classifier correct?\n",
        "print(\"Accuracy:\",metrics.accuracy_score(y_test, y_pred))"
      ],
      "execution_count": 118,
      "outputs": [
        {
          "output_type": "stream",
          "name": "stdout",
          "text": [
            "Accuracy: 0.4114095985511621\n"
          ]
        }
      ]
    },
    {
      "cell_type": "markdown",
      "metadata": {
        "id": "1TWG-JLJKWAr"
      },
      "source": [
        "##Random Forest Classifier"
      ]
    },
    {
      "cell_type": "code",
      "metadata": {
        "colab": {
          "base_uri": "https://localhost:8080/"
        },
        "id": "Bvk0emRvAnyY",
        "outputId": "c5d4b7c5-d8b1-4722-be9c-6f10a323405f"
      },
      "source": [
        "from sklearn.ensemble import RandomForestClassifier\n",
        "classifier = RandomForestClassifier(n_estimators = 100, criterion = 'entropy',random_state=100)\n",
        "classifier.fit(X_train_SMOTE, y_train_SMOTE)"
      ],
      "execution_count": 102,
      "outputs": [
        {
          "output_type": "execute_result",
          "data": {
            "text/plain": [
              "RandomForestClassifier(criterion='entropy', random_state=100)"
            ]
          },
          "metadata": {},
          "execution_count": 102
        }
      ]
    },
    {
      "cell_type": "code",
      "metadata": {
        "id": "mT3RekYVA_nK"
      },
      "source": [
        "y_pred = classifier.predict(X_test_pca)"
      ],
      "execution_count": 103,
      "outputs": []
    },
    {
      "cell_type": "code",
      "metadata": {
        "colab": {
          "base_uri": "https://localhost:8080/"
        },
        "id": "BjRKMCOeAws6",
        "outputId": "a43804eb-6d05-415a-c165-626e09525b94"
      },
      "source": [
        "from sklearn.metrics import confusion_matrix, accuracy_score\n",
        "cm = confusion_matrix(y_test, y_pred)\n",
        "print(cm)\n",
        "accuracy_score(y_test, y_pred)"
      ],
      "execution_count": 104,
      "outputs": [
        {
          "output_type": "stream",
          "name": "stdout",
          "text": [
            "[[  2   0   0  17   0   2   2   0   0]\n",
            " [  0  11   0   1   0   0   0   0   1]\n",
            " [  0   0 454   0   2   4  36   5  41]\n",
            " [  1   0   0 259   0   3  18   0   1]\n",
            " [  0   0   4   0  51   0   4  10 100]\n",
            " [  0   0   1   0   0  68  34   1   0]\n",
            " [  0   2  50  27   7  15 659 287  46]\n",
            " [  0   0   0   0   1   3 381 269   0]\n",
            " [  0   0  46   0  55   0  20  21 291]]\n"
          ]
        },
        {
          "output_type": "execute_result",
          "data": {
            "text/plain": [
              "0.6230003018412316"
            ]
          },
          "metadata": {},
          "execution_count": 104
        }
      ]
    },
    {
      "cell_type": "markdown",
      "metadata": {
        "id": "zrQBH8l2HVmj"
      },
      "source": [
        "##XGBOOST"
      ]
    },
    {
      "cell_type": "code",
      "metadata": {
        "id": "kOyCETXzHY51"
      },
      "source": [
        "clf = GradientBoostingClassifier(n_estimators=100, learning_rate=0.5,max_depth=1, random_state=10,loss='deviance',criterion='squared_error').fit(X_train_SMOTE, y_train_SMOTE)\n",
        "y_pred = clf.predict(X_test_pca)\n"
      ],
      "execution_count": 106,
      "outputs": []
    },
    {
      "cell_type": "code",
      "metadata": {
        "colab": {
          "base_uri": "https://localhost:8080/"
        },
        "id": "DL7Yl2fKHeQV",
        "outputId": "1f51d8eb-c49f-4256-8e68-6b7fc3583c02"
      },
      "source": [
        "\n",
        "cm = confusion_matrix(y_test, y_pred)\n",
        "print(cm)\n",
        "accuracy_score(y_test, y_pred)"
      ],
      "execution_count": 107,
      "outputs": [
        {
          "output_type": "stream",
          "name": "stdout",
          "text": [
            "[[  4   0   0  15   0   2   2   0   0]\n",
            " [  0  13   0   0   0   0   0   0   0]\n",
            " [  0   0 453   0   1   4  39   1  44]\n",
            " [ 11   0   0 250   0   7  14   0   0]\n",
            " [  0   0   2   0  61   0   4  10  92]\n",
            " [  0   0   0   0   0  81  23   0   0]\n",
            " [  0   2  51  27  14  23 647 291  38]\n",
            " [  0   0   0   0   0   4 323 327   0]\n",
            " [  0   0  32   0  62   0  15  25 299]]\n"
          ]
        },
        {
          "output_type": "execute_result",
          "data": {
            "text/plain": [
              "0.6444310292785994"
            ]
          },
          "metadata": {},
          "execution_count": 107
        }
      ]
    },
    {
      "cell_type": "markdown",
      "metadata": {
        "id": "EGDxdBfKTajz"
      },
      "source": [
        "## Hyperparameter tuning "
      ]
    },
    {
      "cell_type": "code",
      "metadata": {
        "id": "-pIBHCPh7ZTF"
      },
      "source": [
        "X = df.iloc[:,:-1]\n",
        "y = df.iloc[:,-1]\n",
        "\n",
        "#Split train-test data\n",
        "X_train_rf, X_test_rf, y_train_rf, y_test_rf = train_test_split(X,y,test_size=0.15)"
      ],
      "execution_count": 121,
      "outputs": []
    },
    {
      "cell_type": "code",
      "metadata": {
        "id": "_L9N81_s7Ho9"
      },
      "source": [
        "model_params = {\n",
        "    # randomly sample numbers from 4 to 204 estimators\n",
        "    'n_estimators': randint(4,100),\n",
        "    # normally distributed max_features, with mean .25 stddev 0.1, bounded between 0 and 1\n",
        "    'max_features': truncnorm(a=0, b=1, loc=0.25, scale=0.1),\n",
        "    # uniform distribution from 0.01 to 0.2 (0.01 + 0.199)\n",
        "    'min_samples_split': uniform(0.01, 0.199)\n",
        "}"
      ],
      "execution_count": 122,
      "outputs": []
    },
    {
      "cell_type": "code",
      "metadata": {
        "colab": {
          "base_uri": "https://localhost:8080/"
        },
        "id": "m09-lguf7M5r",
        "outputId": "9fb0bbce-8b5b-4f3f-9a96-d245bc846964"
      },
      "source": [
        "# create random forest classifier model\n",
        "rf_model = RandomForestClassifier()\n",
        "\n",
        "# set up random search meta-estimator\n",
        "# this will train 100 models over 5 folds of cross validation (500 models total)\n",
        "clf = RandomizedSearchCV(rf_model, model_params, n_iter=100, cv=5, random_state=1)\n",
        "\n",
        "# train the random search meta-estimator to find the best model out of 100 candidates\n",
        "model = clf.fit(X_train_rf, y_train_rf)\n",
        "\n",
        "# print winning set of hyperparameters\n",
        "from pprint import pprint\n",
        "pprint(model.best_estimator_.get_params())\n",
        "print('\\n')\n",
        "print(clf.best_score_)"
      ],
      "execution_count": 123,
      "outputs": [
        {
          "output_type": "stream",
          "name": "stdout",
          "text": [
            "{'bootstrap': True,\n",
            " 'ccp_alpha': 0.0,\n",
            " 'class_weight': None,\n",
            " 'criterion': 'gini',\n",
            " 'max_depth': None,\n",
            " 'max_features': 0.3132944711593806,\n",
            " 'max_leaf_nodes': None,\n",
            " 'max_samples': None,\n",
            " 'min_impurity_decrease': 0.0,\n",
            " 'min_samples_leaf': 1,\n",
            " 'min_samples_split': 0.012529820347453919,\n",
            " 'min_weight_fraction_leaf': 0.0,\n",
            " 'n_estimators': 73,\n",
            " 'n_jobs': None,\n",
            " 'oob_score': False,\n",
            " 'random_state': None,\n",
            " 'verbose': 0,\n",
            " 'warm_start': False}\n",
            "\n",
            "\n",
            "0.6257858284496537\n"
          ]
        }
      ]
    },
    {
      "cell_type": "code",
      "metadata": {
        "colab": {
          "base_uri": "https://localhost:8080/"
        },
        "id": "XuArc9c6Bp7y",
        "outputId": "ecdf3b4c-8ff2-4130-9c93-fb4a049982aa"
      },
      "source": [
        "from sklearn.ensemble import RandomForestClassifier\n",
        "classifier = RandomForestClassifier(bootstrap=True,\n",
        " ccp_alpha=0.0,\n",
        " class_weight= None,\n",
        " criterion='gini',\n",
        " max_depth= None,\n",
        " max_features=0.3132944711593806,\n",
        " max_leaf_nodes= None,\n",
        " max_samples= None,\n",
        " min_impurity_decrease=0.0,\n",
        " min_samples_leaf=1,\n",
        " min_samples_split= 0.012529820347453919,\n",
        " min_weight_fraction_leaf= 0.0,\n",
        " n_estimators= 73,\n",
        " n_jobs=None,\n",
        " oob_score=False,\n",
        " random_state=None,\n",
        " verbose=0,\n",
        " warm_start= False)\n",
        "classifier.fit(X_train_rf, y_train_rf)"
      ],
      "execution_count": 124,
      "outputs": [
        {
          "output_type": "execute_result",
          "data": {
            "text/plain": [
              "RandomForestClassifier(max_features=0.3132944711593806,\n",
              "                       min_samples_split=0.012529820347453919, n_estimators=73)"
            ]
          },
          "metadata": {},
          "execution_count": 124
        }
      ]
    },
    {
      "cell_type": "code",
      "metadata": {
        "id": "M6MCnkzbC625"
      },
      "source": [
        "y_pred = classifier.predict(X_test_rf)"
      ],
      "execution_count": 125,
      "outputs": []
    },
    {
      "cell_type": "code",
      "metadata": {
        "colab": {
          "base_uri": "https://localhost:8080/"
        },
        "id": "rw9JMvKSC83c",
        "outputId": "1f311e8e-0249-4626-f0d5-0a2f1cc489c1"
      },
      "source": [
        "from sklearn.metrics import confusion_matrix, accuracy_score\n",
        "cm = confusion_matrix(y_test, y_pred)\n",
        "print(cm)\n",
        "accuracy_score(y_test_rf, y_pred)"
      ],
      "execution_count": 126,
      "outputs": [
        {
          "output_type": "stream",
          "name": "stdout",
          "text": [
            "[[  0   0   5   4   0   0   9   2   3]\n",
            " [  0   0   2   2   0   0   4   1   4]\n",
            " [  0   2  92  41   0  14 241  59  93]\n",
            " [  0   1  48  21   0   7 133  28  44]\n",
            " [  0   0  31   8   0   3  85  14  28]\n",
            " [  0   0  18   6   0   3  45  13  19]\n",
            " [  0   4 181 111   4  23 482  95 193]\n",
            " [  0   2 111  50   4  13 319  52 103]\n",
            " [  0   2  62  42   2   6 213  39  67]]\n"
          ]
        },
        {
          "output_type": "execute_result",
          "data": {
            "text/plain": [
              "0.6230003018412316"
            ]
          },
          "metadata": {},
          "execution_count": 126
        }
      ]
    },
    {
      "cell_type": "markdown",
      "metadata": {
        "id": "1JOGxuRDSmix"
      },
      "source": [
        "##Accuracy Comparison"
      ]
    },
    {
      "cell_type": "code",
      "metadata": {
        "id": "3JdnimbvdPub"
      },
      "source": [
        "acc_dict1={'models':['KNN','RandomForest','CART1','CART2','NB','XGBOOST'],'accuracy':[35.49,63.14,59.73,60.85,51.76,64.89]}\n",
        "accdf=pd.DataFrame(acc_dict1)"
      ],
      "execution_count": 119,
      "outputs": []
    },
    {
      "cell_type": "code",
      "metadata": {
        "colab": {
          "base_uri": "https://localhost:8080/",
          "height": 376
        },
        "id": "hdxlgHyRcqG9",
        "outputId": "09243175-8f33-4675-9157-4fafdcdfb45d"
      },
      "source": [
        "plt.figure(figsize=(18, 6))\n",
        "accdf.plot(x='models',y='accuracy',kind='bar')"
      ],
      "execution_count": 120,
      "outputs": [
        {
          "output_type": "execute_result",
          "data": {
            "text/plain": [
              "<matplotlib.axes._subplots.AxesSubplot at 0x7f40fef1a310>"
            ]
          },
          "metadata": {},
          "execution_count": 120
        },
        {
          "output_type": "display_data",
          "data": {
            "text/plain": [
              "<Figure size 1296x432 with 0 Axes>"
            ]
          },
          "metadata": {}
        },
        {
          "output_type": "display_data",
          "data": {
            "image/png": "[encoded data removed]",
            "text/plain": [
              "<Figure size 432x288 with 1 Axes>"
            ]
          },
          "metadata": {
            "needs_background": "light"
          }
        }
      ]
    },
    {
      "cell_type": "markdown",
      "metadata": {
        "id": "kgv6TMxmVMLZ"
      },
      "source": [
        "#RFE"
      ]
    },
    {
      "cell_type": "code",
      "metadata": {
        "id": "B64CLsJKi2rZ"
      },
      "source": [
        "j=df.columns[:-1]"
      ],
      "execution_count": 127,
      "outputs": []
    },
    {
      "cell_type": "code",
      "metadata": {
        "id": "FI5geVpOVLgr"
      },
      "source": [
        "from sklearn.feature_selection import RFE\n",
        "acc=[]\n",
        "for z in range(1,29):\n",
        "  model = RandomForestClassifier(n_estimators = 2*z, criterion = 'gini',random_state=30)\n",
        "  rfe = RFE(model,n_features_to_select=z,step=1)\n",
        "  fitter = rfe.fit(X, y)\n",
        "  k=fitter.support_\n",
        "  m=[]\n",
        "  for i in range(len(j)):\n",
        "    if k[i]==True:\n",
        "      m.append(j[i])\n",
        "  X1=df[m].iloc[:, :].values\n",
        "  y1=df.iloc[:, -1].values\n",
        "  X_train1, X_test1, y_train1, y_test1 = train_test_split(X1, y1, test_size = 0.15)\n",
        "  logreg=model.fit(X_train1,y_train1)\n",
        "  y_pred1 = logreg.predict(X_test1)\n",
        "  cm1 = confusion_matrix(y_test1, y_pred1)\n",
        "  #print(cm1)\n",
        "  acc.append([accuracy_score(y_test1, y_pred1),z])"
      ],
      "execution_count": 128,
      "outputs": []
    },
    {
      "cell_type": "code",
      "metadata": {
        "colab": {
          "base_uri": "https://localhost:8080/"
        },
        "id": "bN5xRk6VZjxK",
        "outputId": "8dc7456b-a755-4a65-ecb4-184284873638"
      },
      "source": [
        "acc"
      ],
      "execution_count": 129,
      "outputs": [
        {
          "output_type": "execute_result",
          "data": {
            "text/plain": [
              "[[0.21974041654089949, 1],\n",
              " [0.43072743736794444, 2],\n",
              " [0.41472985209779656, 3],\n",
              " [0.42438877150618776, 4],\n",
              " [0.42167220042257775, 5],\n",
              " [0.41050407485662543, 6],\n",
              " [0.4056746151524298, 7],\n",
              " [0.41563537579233323, 8],\n",
              " [0.4412918804708723, 9],\n",
              " [0.4470268638696046, 10],\n",
              " [0.49230304859643825, 11],\n",
              " [0.5258074252942952, 12],\n",
              " [0.5028674916993662, 13],\n",
              " [0.5288258376094175, 14],\n",
              " [0.5415031693329309, 15],\n",
              " [0.5167521883489284, 16],\n",
              " [0.568668880169031, 17],\n",
              " [0.5620283730757621, 18],\n",
              " [0.5722909749471777, 19],\n",
              " [0.5707817687896166, 20],\n",
              " [0.5795351645034712, 21],\n",
              " [0.6067008753395714, 22],\n",
              " [0.6000603682463025, 23],\n",
              " [0.5946272260790824, 24],\n",
              " [0.6027769393299125, 25],\n",
              " [0.6281316027769394, 26],\n",
              " [0.6314518563235738, 27],\n",
              " [0.6326592212496227, 28]]"
            ]
          },
          "metadata": {},
          "execution_count": 129
        }
      ]
    }
  ]
}